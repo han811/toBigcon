{
 "cells": [
  {
   "cell_type": "code",
   "execution_count": 17,
   "metadata": {},
   "outputs": [],
   "source": [
    "import pandas as pd\n",
    "import numpy as np\n",
    "from tqdm import tqdm\n",
    "import sys"
   ]
  },
  {
   "cell_type": "code",
   "execution_count": 4,
   "metadata": {},
   "outputs": [],
   "source": [
    "pred =pd.read_csv('../data/hungarian.csv')"
   ]
  },
  {
   "cell_type": "code",
   "execution_count": 5,
   "metadata": {},
   "outputs": [],
   "source": [
    "pred = pred.drop(['Unnamed: 0'],axis ='columns')"
   ]
  },
  {
   "cell_type": "code",
   "execution_count": 6,
   "metadata": {},
   "outputs": [],
   "source": [
    "tn = np.array(pred['취급액'])\n",
    "tn.reshape((1,-1))\n",
    "final  = pd.DataFrame(tn.reshape((1,-1)).reshape((60,-1)).T,columns=pred['방송일시'].unique(),index=pred['상품코드'].unique()).T\n",
    "final = final.astype(int)"
   ]
  },
  {
   "cell_type": "code",
   "execution_count": 8,
   "metadata": {},
   "outputs": [
    {
     "name": "stderr",
     "output_type": "stream",
     "text": [
      "100%|██████████| 389/389 [00:00<00:00, 17378.17it/s]\n"
     ]
    }
   ],
   "source": [
    "tmp = np.zeros((20,final.shape[1]))\n",
    "final_tmp = np.array(final)\n",
    "for i in tqdm(range(final_tmp.shape[1])):\n",
    "  sum = 0\n",
    "  for j in range(60):\n",
    "    if(j%3==2):\n",
    "        tmp[j//3][i] = sum + final_tmp[j][i]\n",
    "        sum = 0\n",
    "    else:\n",
    "      sum+=final_tmp[j][i]\n"
   ]
  },
  {
   "cell_type": "code",
   "execution_count": 10,
   "metadata": {},
   "outputs": [],
   "source": [
    "ffinal = pd.DataFrame(tmp)\n",
    "ffinal.columns = final.columns"
   ]
  },
  {
   "cell_type": "code",
   "execution_count": 12,
   "metadata": {},
   "outputs": [],
   "source": [
    "my_index =[]\n",
    "for i in range(0,len(final.index),3):\n",
    "  #print(final.index[i])\n",
    "  my_index.append(final.index[i])"
   ]
  },
  {
   "cell_type": "code",
   "execution_count": 13,
   "metadata": {},
   "outputs": [],
   "source": [
    "ffinal.index = my_index"
   ]
  },
  {
   "cell_type": "code",
   "execution_count": 14,
   "metadata": {},
   "outputs": [],
   "source": [
    "col = []\n",
    "for i in ffinal.columns:\n",
    "    col.append(pred[pred['상품코드']==i].reset_index()['상품명'][0])"
   ]
  },
  {
   "cell_type": "code",
   "execution_count": 15,
   "metadata": {},
   "outputs": [],
   "source": [
    "ffinal.columns = col"
   ]
  },
  {
   "cell_type": "code",
   "execution_count": 16,
   "metadata": {},
   "outputs": [],
   "source": [
    "from munkres import Munkres, print_matrix\n",
    "\n",
    "m = Munkres()"
   ]
  },
  {
   "cell_type": "code",
   "execution_count": 18,
   "metadata": {},
   "outputs": [],
   "source": [
    "def hung2(df):\n",
    "\n",
    "  idx = df.index\n",
    "  pro = df.columns\n",
    "  pro_ =[]\n",
    "\n",
    "  matrix = df.values.tolist()\n",
    "\n",
    "  row1 = []\n",
    "  col1 = []\n",
    "  weight = []\n",
    "\n",
    "  cost_matrix = []\n",
    "  for row in matrix:\n",
    "      cost_row = []\n",
    "      for col in row:\n",
    "          cost_row += [sys.maxsize - col]\n",
    "      cost_matrix += [cost_row]\n",
    "\n",
    "  m = Munkres()\n",
    "  indexes = m.compute(cost_matrix)\n",
    "#   print_matrix(matrix, msg='Highest profit through this matrix:')\n",
    "  total = 0\n",
    "  for row, column in indexes:   # indexes : [(0, 0), (1, 7), (2, 19), ... ] \n",
    "      value = matrix[row][column]\n",
    "      total += value\n",
    "#       print('(%d, %d) -> %d' % (row, column, value))\n",
    "      row1.append(row) \n",
    "      col1.append(column)\n",
    "      weight.append(value)\n",
    "\n",
    "  for i in range(len(col1)):\n",
    "    pro_.append(pro[col1[i]])\n",
    "\n",
    "  #print('total cost: %d' % total)\n",
    "  final = pd.DataFrame(columns=[idx])   # 최종 dataframe 생성.\n",
    "  final = final.T                         # 시간대를 index로 주기위함.\n",
    "  final['product'] = pro_           \n",
    "  final['weight'] =weight  # 상품별 해당시간에 예측된 취급액 \n",
    "\n",
    "  return final, total\n"
   ]
  },
  {
   "cell_type": "code",
   "execution_count": 19,
   "metadata": {},
   "outputs": [],
   "source": [
    "hungmat , total = hung2(ffinal)"
   ]
  },
  {
   "cell_type": "code",
   "execution_count": 20,
   "metadata": {},
   "outputs": [
    {
     "data": {
      "text/html": [
       "<div>\n",
       "<style scoped>\n",
       "    .dataframe tbody tr th:only-of-type {\n",
       "        vertical-align: middle;\n",
       "    }\n",
       "\n",
       "    .dataframe tbody tr th {\n",
       "        vertical-align: top;\n",
       "    }\n",
       "\n",
       "    .dataframe thead th {\n",
       "        text-align: right;\n",
       "    }\n",
       "</style>\n",
       "<table border=\"1\" class=\"dataframe\">\n",
       "  <thead>\n",
       "    <tr style=\"text-align: right;\">\n",
       "      <th></th>\n",
       "      <th>product</th>\n",
       "      <th>weight</th>\n",
       "    </tr>\n",
       "  </thead>\n",
       "  <tbody>\n",
       "    <tr>\n",
       "      <th>2020-06-01 06:40:00</th>\n",
       "      <td>LG 울트라HD TV AI ThinQ(인공지능 씽큐) 75형 75UN7850KNA</td>\n",
       "      <td>198858856.0</td>\n",
       "    </tr>\n",
       "    <tr>\n",
       "      <th>2020-06-01 07:40:00</th>\n",
       "      <td>무이자 삼성 UHDTV 65형 KU65UT7000FXKR</td>\n",
       "      <td>195402133.0</td>\n",
       "    </tr>\n",
       "    <tr>\n",
       "      <th>2020-06-01 08:40:00</th>\n",
       "      <td>PN 메가티타늄 후라이팬+IH 인덕션 1구 풀세트</td>\n",
       "      <td>173701742.0</td>\n",
       "    </tr>\n",
       "    <tr>\n",
       "      <th>2020-06-01 09:40:00</th>\n",
       "      <td>클라쎄 벽걸이 에어컨 TDOZ-S10JK</td>\n",
       "      <td>205383409.0</td>\n",
       "    </tr>\n",
       "    <tr>\n",
       "      <th>2020-06-01 10:40:00</th>\n",
       "      <td>3인용 우아미천연가죽소파</td>\n",
       "      <td>160186154.0</td>\n",
       "    </tr>\n",
       "    <tr>\n",
       "      <th>2020-06-01 11:40:00</th>\n",
       "      <td>마르엘라로사티 플로럴썸머원피스3종</td>\n",
       "      <td>229911434.0</td>\n",
       "    </tr>\n",
       "    <tr>\n",
       "      <th>2020-06-01 12:40:00</th>\n",
       "      <td>LG 울트라HD TV AI ThinQ(인공지능 씽큐) 75형 75UN7850KNA</td>\n",
       "      <td>139077802.0</td>\n",
       "    </tr>\n",
       "    <tr>\n",
       "      <th>2020-06-01 13:40:00</th>\n",
       "      <td>3D에어매쉬 편백나무베개 (패밀리)</td>\n",
       "      <td>131483220.0</td>\n",
       "    </tr>\n",
       "    <tr>\n",
       "      <th>2020-06-01 14:40:00</th>\n",
       "      <td>2020 안동간고등어 20팩</td>\n",
       "      <td>175215977.0</td>\n",
       "    </tr>\n",
       "    <tr>\n",
       "      <th>2020-06-01 15:40:00</th>\n",
       "      <td>에지리 스텐큐브 프라이팬</td>\n",
       "      <td>180152995.0</td>\n",
       "    </tr>\n",
       "    <tr>\n",
       "      <th>2020-06-01 16:40:00</th>\n",
       "      <td>신일에어쿨러엣지 (SIF-P75MD)</td>\n",
       "      <td>143274203.0</td>\n",
       "    </tr>\n",
       "    <tr>\n",
       "      <th>2020-06-01 17:40:00</th>\n",
       "      <td>엘르 로라 샌들 + 투웨이 뮬</td>\n",
       "      <td>175506636.0</td>\n",
       "    </tr>\n",
       "    <tr>\n",
       "      <th>2020-06-01 18:40:00</th>\n",
       "      <td>프리모 5단 폴딩선반</td>\n",
       "      <td>152082696.0</td>\n",
       "    </tr>\n",
       "    <tr>\n",
       "      <th>2020-06-01 19:40:00</th>\n",
       "      <td>시스마르스 와플 웨지 펌프스</td>\n",
       "      <td>121699785.0</td>\n",
       "    </tr>\n",
       "    <tr>\n",
       "      <th>2020-06-01 20:40:00</th>\n",
       "      <td>아룬싸왓  천연 라텍스 구름 배개 1+1더블세트</td>\n",
       "      <td>195452081.0</td>\n",
       "    </tr>\n",
       "    <tr>\n",
       "      <th>2020-06-01 21:40:00</th>\n",
       "      <td>잭필드 남성  반팔셔츠 4종</td>\n",
       "      <td>240861057.0</td>\n",
       "    </tr>\n",
       "    <tr>\n",
       "      <th>2020-06-01 22:40:00</th>\n",
       "      <td>일시불 20년 무풍 슬림 16형 화이트(절전) 스탠드(AF16T5774WZT) + ...</td>\n",
       "      <td>144641610.0</td>\n",
       "    </tr>\n",
       "    <tr>\n",
       "      <th>2020-06-01 23:40:00</th>\n",
       "      <td>국내산 손질통오징어 16미</td>\n",
       "      <td>206955218.0</td>\n",
       "    </tr>\n",
       "    <tr>\n",
       "      <th>2020-06-02 00:40:00</th>\n",
       "      <td>한라궁 황칠 제주오메기떡 2종 40개 (호박오메기20봉+팥오메기20봉)</td>\n",
       "      <td>189418565.0</td>\n",
       "    </tr>\n",
       "    <tr>\n",
       "      <th>2020-06-02 01:40:00</th>\n",
       "      <td>지나송 보노 화이트에디션 암막 커튼(슈퍼특대형)</td>\n",
       "      <td>188129858.0</td>\n",
       "    </tr>\n",
       "  </tbody>\n",
       "</table>\n",
       "</div>"
      ],
      "text/plain": [
       "                                                               product  \\\n",
       "2020-06-01 06:40:00      LG 울트라HD TV AI ThinQ(인공지능 씽큐) 75형 75UN7850KNA   \n",
       "2020-06-01 07:40:00                    무이자 삼성 UHDTV 65형 KU65UT7000FXKR   \n",
       "2020-06-01 08:40:00                        PN 메가티타늄 후라이팬+IH 인덕션 1구 풀세트   \n",
       "2020-06-01 09:40:00                             클라쎄 벽걸이 에어컨 TDOZ-S10JK   \n",
       "2020-06-01 10:40:00                                      3인용 우아미천연가죽소파   \n",
       "2020-06-01 11:40:00                                 마르엘라로사티 플로럴썸머원피스3종   \n",
       "2020-06-01 12:40:00      LG 울트라HD TV AI ThinQ(인공지능 씽큐) 75형 75UN7850KNA   \n",
       "2020-06-01 13:40:00                                3D에어매쉬 편백나무베개 (패밀리)   \n",
       "2020-06-01 14:40:00                                    2020 안동간고등어 20팩   \n",
       "2020-06-01 15:40:00                                      에지리 스텐큐브 프라이팬   \n",
       "2020-06-01 16:40:00                               신일에어쿨러엣지 (SIF-P75MD)   \n",
       "2020-06-01 17:40:00                                   엘르 로라 샌들 + 투웨이 뮬   \n",
       "2020-06-01 18:40:00                                        프리모 5단 폴딩선반   \n",
       "2020-06-01 19:40:00                                    시스마르스 와플 웨지 펌프스   \n",
       "2020-06-01 20:40:00                         아룬싸왓  천연 라텍스 구름 배개 1+1더블세트   \n",
       "2020-06-01 21:40:00                                    잭필드 남성  반팔셔츠 4종   \n",
       "2020-06-01 22:40:00  일시불 20년 무풍 슬림 16형 화이트(절전) 스탠드(AF16T5774WZT) + ...   \n",
       "2020-06-01 23:40:00                                     국내산 손질통오징어 16미   \n",
       "2020-06-02 00:40:00            한라궁 황칠 제주오메기떡 2종 40개 (호박오메기20봉+팥오메기20봉)   \n",
       "2020-06-02 01:40:00                         지나송 보노 화이트에디션 암막 커튼(슈퍼특대형)   \n",
       "\n",
       "                          weight  \n",
       "2020-06-01 06:40:00  198858856.0  \n",
       "2020-06-01 07:40:00  195402133.0  \n",
       "2020-06-01 08:40:00  173701742.0  \n",
       "2020-06-01 09:40:00  205383409.0  \n",
       "2020-06-01 10:40:00  160186154.0  \n",
       "2020-06-01 11:40:00  229911434.0  \n",
       "2020-06-01 12:40:00  139077802.0  \n",
       "2020-06-01 13:40:00  131483220.0  \n",
       "2020-06-01 14:40:00  175215977.0  \n",
       "2020-06-01 15:40:00  180152995.0  \n",
       "2020-06-01 16:40:00  143274203.0  \n",
       "2020-06-01 17:40:00  175506636.0  \n",
       "2020-06-01 18:40:00  152082696.0  \n",
       "2020-06-01 19:40:00  121699785.0  \n",
       "2020-06-01 20:40:00  195452081.0  \n",
       "2020-06-01 21:40:00  240861057.0  \n",
       "2020-06-01 22:40:00  144641610.0  \n",
       "2020-06-01 23:40:00  206955218.0  \n",
       "2020-06-02 00:40:00  189418565.0  \n",
       "2020-06-02 01:40:00  188129858.0  "
      ]
     },
     "execution_count": 20,
     "metadata": {},
     "output_type": "execute_result"
    }
   ],
   "source": [
    "hungmat"
   ]
  },
  {
   "cell_type": "code",
   "execution_count": 21,
   "metadata": {},
   "outputs": [
    {
     "data": {
      "text/plain": [
       "3547395431.0"
      ]
     },
     "execution_count": 21,
     "metadata": {},
     "output_type": "execute_result"
    }
   ],
   "source": [
    "total"
   ]
  },
  {
   "cell_type": "code",
   "execution_count": 22,
   "metadata": {},
   "outputs": [],
   "source": [
    "hungmat.to_excel('../편성표/20200601_pred.xlsx',index=False)"
   ]
  }
 ],
 "metadata": {
  "kernelspec": {
   "display_name": "Python 3",
   "language": "python",
   "name": "python3"
  },
  "language_info": {
   "codemirror_mode": {
    "name": "ipython",
    "version": 3
   },
   "file_extension": ".py",
   "mimetype": "text/x-python",
   "name": "python",
   "nbconvert_exporter": "python",
   "pygments_lexer": "ipython3",
   "version": "3.8.3"
  }
 },
 "nbformat": 4,
 "nbformat_minor": 4
}
