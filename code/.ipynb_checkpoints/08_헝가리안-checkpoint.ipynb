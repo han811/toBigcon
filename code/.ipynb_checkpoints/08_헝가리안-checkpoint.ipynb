{
 "cells": [
  {
   "cell_type": "code",
   "execution_count": null,
   "metadata": {},
   "outputs": [],
   "source": [
    "import pandas as pd\n",
    "import numpy as np\n",
    "from tqdm import tqdm\n",
    "import sys"
   ]
  },
  {
   "cell_type": "code",
   "execution_count": null,
   "metadata": {},
   "outputs": [],
   "source": [
    "pred =pd.read_csv('../data/hungarian.csv')"
   ]
  },
  {
   "cell_type": "code",
   "execution_count": null,
   "metadata": {},
   "outputs": [],
   "source": [
    "pred = pred.drop(['Unnamed: 0'],axis ='columns')"
   ]
  },
  {
   "cell_type": "code",
   "execution_count": null,
   "metadata": {},
   "outputs": [],
   "source": [
    "tn = np.array(pred['취급액'])\n",
    "tn.reshape((1,-1))\n",
    "final  = pd.DataFrame(tn.reshape((1,-1)).reshape((60,-1)).T,columns=pred['방송일시'].unique(),index=pred['상품코드'].unique()).T\n",
    "final = final.astype(int)"
   ]
  },
  {
   "cell_type": "code",
   "execution_count": null,
   "metadata": {},
   "outputs": [],
   "source": [
    "tmp = np.zeros((20,final.shape[1]))\n",
    "final_tmp = np.array(final)\n",
    "for i in tqdm(range(final_tmp.shape[1])):\n",
    "  sum = 0\n",
    "  for j in range(60):\n",
    "    if(j%3==2):\n",
    "        tmp[j//3][i] = sum + final_tmp[j][i]\n",
    "        sum = 0\n",
    "    else:\n",
    "      sum+=final_tmp[j][i]\n"
   ]
  },
  {
   "cell_type": "code",
   "execution_count": null,
   "metadata": {},
   "outputs": [],
   "source": [
    "ffinal = pd.DataFrame(tmp)\n",
    "ffinal.columns = final.columns"
   ]
  },
  {
   "cell_type": "code",
   "execution_count": null,
   "metadata": {},
   "outputs": [],
   "source": [
    "my_index =[]\n",
    "for i in range(0,len(final.index),3):\n",
    "  #print(final.index[i])\n",
    "  my_index.append(final.index[i])"
   ]
  },
  {
   "cell_type": "code",
   "execution_count": null,
   "metadata": {},
   "outputs": [],
   "source": [
    "ffinal.index = my_index"
   ]
  },
  {
   "cell_type": "code",
   "execution_count": null,
   "metadata": {},
   "outputs": [],
   "source": [
    "col = []\n",
    "for i in ffinal.columns:\n",
    "    col.append(pred[pred['상품코드']==i].reset_index()['상품명'][0])"
   ]
  },
  {
   "cell_type": "code",
   "execution_count": null,
   "metadata": {},
   "outputs": [],
   "source": [
    "ffinal.columns = col"
   ]
  },
  {
   "cell_type": "code",
   "execution_count": null,
   "metadata": {},
   "outputs": [],
   "source": [
    "from munkres import Munkres, print_matrix\n",
    "\n",
    "m = Munkres()"
   ]
  },
  {
   "cell_type": "code",
   "execution_count": null,
   "metadata": {},
   "outputs": [],
   "source": [
    "def hung2(df):\n",
    "\n",
    "  idx = df.index\n",
    "  pro = df.columns\n",
    "  pro_ =[]\n",
    "\n",
    "  matrix = df.values.tolist()\n",
    "\n",
    "  row1 = []\n",
    "  col1 = []\n",
    "  weight = []\n",
    "\n",
    "  cost_matrix = []\n",
    "  for row in matrix:\n",
    "      cost_row = []\n",
    "      for col in row:\n",
    "          cost_row += [sys.maxsize - col]\n",
    "      cost_matrix += [cost_row]\n",
    "\n",
    "  m = Munkres()\n",
    "  indexes = m.compute(cost_matrix)\n",
    "#   print_matrix(matrix, msg='Highest profit through this matrix:')\n",
    "  total = 0\n",
    "  for row, column in indexes:   # indexes : [(0, 0), (1, 7), (2, 19), ... ] \n",
    "      value = matrix[row][column]\n",
    "      total += value\n",
    "#       print('(%d, %d) -> %d' % (row, column, value))\n",
    "      row1.append(row) \n",
    "      col1.append(column)\n",
    "      weight.append(value)\n",
    "\n",
    "  for i in range(len(col1)):\n",
    "    pro_.append(pro[col1[i]])\n",
    "\n",
    "  #print('total cost: %d' % total)\n",
    "  final = pd.DataFrame(columns=[idx])   # 최종 dataframe 생성.\n",
    "  final = final.T                         # 시간대를 index로 주기위함.\n",
    "  final['product'] = pro_           \n",
    "  final['weight'] =weight  # 상품별 해당시간에 예측된 취급액 \n",
    "\n",
    "  return final, total\n"
   ]
  },
  {
   "cell_type": "code",
   "execution_count": null,
   "metadata": {},
   "outputs": [],
   "source": [
    "hungmat , total = hung2(ffinal)"
   ]
  },
  {
   "cell_type": "code",
   "execution_count": null,
   "metadata": {},
   "outputs": [],
   "source": [
    "hungmat"
   ]
  },
  {
   "cell_type": "code",
   "execution_count": null,
   "metadata": {},
   "outputs": [],
   "source": [
    "total"
   ]
  },
  {
   "cell_type": "code",
   "execution_count": null,
   "metadata": {},
   "outputs": [],
   "source": [
    "hungmat.to_excel('../편성표/20200601_pred.xlsx',index=False)"
   ]
  }
 ],
 "metadata": {
  "kernelspec": {
   "display_name": "Python 3",
   "language": "python",
   "name": "python3"
  },
  "language_info": {
   "codemirror_mode": {
    "name": "ipython",
    "version": 3
   },
   "file_extension": ".py",
   "mimetype": "text/x-python",
   "name": "python",
   "nbconvert_exporter": "python",
   "pygments_lexer": "ipython3",
   "version": "3.8.3"
  }
 },
 "nbformat": 4,
 "nbformat_minor": 4
}
