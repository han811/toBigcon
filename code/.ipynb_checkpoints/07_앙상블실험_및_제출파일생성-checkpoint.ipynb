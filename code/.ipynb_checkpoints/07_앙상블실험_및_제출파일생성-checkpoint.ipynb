{
 "cells": [
  {
   "cell_type": "code",
   "execution_count": null,
   "metadata": {},
   "outputs": [],
   "source": [
    "import pandas as pd\n",
    "import numpy as np\n",
    "from sklearn.model_selection import train_test_split, cross_val_score, GridSearchCV, RandomizedSearchCV\n",
    "from sklearn.decomposition import PCA\n",
    "from sklearn.preprocessing import StandardScaler,LabelEncoder\n",
    "from sklearn.ensemble import GradientBoostingRegressor, RandomForestRegressor\n",
    "from sklearn.metrics import roc_auc_score\n",
    "from xgboost import XGBRegressor\n",
    "from catboost import CatBoostRegressor, Pool\n",
    "from lightgbm import LGBMRegressor\n",
    "import datetime\n",
    "import locale                                         \n",
    "import pickle\n",
    "from tqdm import tqdm\n",
    "import warnings\n",
    "import math\n",
    "import joblib\n",
    "warnings.filterwarnings(\"ignore\")\n",
    "locale.setlocale(locale.LC_ALL, 'ko_KR.UTF-8') "
   ]
  },
  {
   "cell_type": "code",
   "execution_count": null,
   "metadata": {},
   "outputs": [],
   "source": [
    "from datetime import datetime\n",
    "\n",
    "\n",
    "today = datetime.today().strftime(\"%m%d\")"
   ]
  },
  {
   "cell_type": "code",
   "execution_count": null,
   "metadata": {},
   "outputs": [],
   "source": [
    "with open('../data/merged_data_concat_0926.pickle', 'rb') as f:\n",
    "    performance_data = pickle.load(f)"
   ]
  },
  {
   "cell_type": "code",
   "execution_count": null,
   "metadata": {},
   "outputs": [],
   "source": [
    "performance_data['마더코드'] = performance_data['마더코드'].map(str)\n",
    "performance_data['상품코드'] = performance_data['상품코드'].map(str)"
   ]
  },
  {
   "cell_type": "markdown",
   "metadata": {},
   "source": [
    "## **성능 Test**"
   ]
  },
  {
   "cell_type": "markdown",
   "metadata": {},
   "source": [
    "### **라벨인코딩**"
   ]
  },
  {
   "cell_type": "code",
   "execution_count": null,
   "metadata": {},
   "outputs": [],
   "source": [
    "performance_data.columns"
   ]
  },
  {
   "cell_type": "code",
   "execution_count": null,
   "metadata": {},
   "outputs": [],
   "source": [
    "# 라벨 인코딩\n",
    "test_data = performance_data.drop(['방송일시','판매량', 'holiday', '대비', 'date', 'mean_rating', \n",
    "                                   '배당수익률(%)', '주가자산비율', '고가지수', '저가지수', '거래량(천주)', '거래대금(백만원)','상장시가총액(백만원)'],axis=1)\n",
    "\n",
    "test_data_cat = performance_data.drop(['방송일시','판매량', 'holiday', '대비', 'date', 'mean_rating', \n",
    "                                   '배당수익률(%)', '주가자산비율', '고가지수', '저가지수', '거래량(천주)', '거래대금(백만원)','상장시가총액(백만원)'],axis=1)\n",
    "\n",
    "# test_data['상품코드'] = test_data['상품코드'].map(int)\n",
    "for feat in ['상품명','상품코드','마더코드','prime_time','중분류','요일','season','남여','muil','브랜드','season_prod','소분류']:\n",
    "    lbe = LabelEncoder()\n",
    "    test_data[feat] = lbe.fit_transform(test_data[feat].astype(str).values)\n",
    "\n",
    "\n"
   ]
  },
  {
   "cell_type": "markdown",
   "metadata": {},
   "source": [
    "## Data Preparation for Modeling"
   ]
  },
  {
   "cell_type": "code",
   "execution_count": null,
   "metadata": {},
   "outputs": [],
   "source": [
    "prod_group = test_data[\"상품군\"].unique()\n",
    "prod_group_dct = {v:k for k, v in enumerate(prod_group)}"
   ]
  },
  {
   "cell_type": "code",
   "execution_count": null,
   "metadata": {},
   "outputs": [],
   "source": [
    "## 추후 전체 set에 대한 mape를 구하기 위해서 split을 해줌.\n",
    "\n",
    "predict_data = test_data[test_data.취급액 == -1].reset_index(drop=True)\n",
    "train_set = test_data[test_data['취급액'] != -1]\n",
    "\n",
    "X = train_set.drop([\"취급액\"], axis = 1)\n",
    "y = train_set[\"취급액\"]\n",
    "\n",
    "grp_idx = train_set['상품군'].map(prod_group_dct)\n",
    "X_train, X_test, y_train, y_test = train_test_split(X, y, random_state=0, stratify = grp_idx)"
   ]
  },
  {
   "cell_type": "code",
   "execution_count": null,
   "metadata": {},
   "outputs": [],
   "source": [
    "test_len = [len(X_test[X_test[\"상품군\"] == prod_group[i]]) for i in range(len(prod_group))]\n",
    "print(test_len)"
   ]
  },
  {
   "cell_type": "code",
   "execution_count": null,
   "metadata": {},
   "outputs": [],
   "source": [
    "def mape(actual, pred): \n",
    "    actual, pred = np.array(actual), np.array(pred)\n",
    "    result = np.mean(np.abs((actual - pred) / actual)) * 100\n",
    "    return result"
   ]
  },
  {
   "cell_type": "code",
   "execution_count": null,
   "metadata": {},
   "outputs": [],
   "source": [
    "original_colnames = list(X_train.drop('상품군',axis=1).columns)\n",
    "new_colnames = []\n",
    "for i in range(len(X_train.drop('상품군',axis=1).columns)):\n",
    "    new_colnames.append(i)\n",
    "colnames_dic = {}\n",
    "for i in range(len(original_colnames)):\n",
    "    colnames_dic[str(new_colnames[i])] = original_colnames[i]"
   ]
  },
  {
   "cell_type": "code",
   "execution_count": null,
   "metadata": {},
   "outputs": [],
   "source": [
    "# 각 상품군별 삭제할 피쳐\n",
    "\n",
    "clothes_del_columns = [37,34,33,32,26,36,20,12,13,16,18]\n",
    "inner_del_columns = [34,33,32,26,36,37,28,17,18,9,27,12,13,25,22,8,28,14,19,15,16]\n",
    "kitchen_del_columns = [25,32,34,36,33,27,9,13,8,17,15,18,16,12,28,14,11]\n",
    "food_del_columns = [25,36,26,9,33,34,32,37,27,17,16,15,28,29,13,20,14]\n",
    "beauty_del_columns = [11,16,14,18,13,22,34,33,32,29,26,36,37,8,12,19,17,15]\n",
    "elec_del_columns = [8,10,11,12,13,14,17,18,19,25,32,33,34,35,36]\n",
    "goods_del_columns = [13,14,15,16,17,19,20,21,22,23,25,29,32,33,34,37]\n",
    "health_del_columns = [8,11,13,14,15,16,17,18,20,25,26,27,32,33,34,36,37]\n",
    "etc_del_columns = [9,11,13,14,15,16,17,18,19,20,22,23,25,27,32,33,34,35,36,37]\n",
    "furn_del_columns = [8,10,11,12,13,14,15,18,19,23,25,27,32,33,34,35,36]\n",
    "bed_del_columns = [8,13,14,15,16,17,19,20,22,23,25,26,27,28,29,31,32,33,34,35,36]\n",
    "\n",
    "\n",
    "clothes_del_columns = [colnames_dic[str(i)] for i in clothes_del_columns]\n",
    "inner_del_columns = [colnames_dic[str(i)] for i in inner_del_columns]\n",
    "kitchen_del_columns = [colnames_dic[str(i)] for i in kitchen_del_columns]\n",
    "food_del_columns = [colnames_dic[str(i)] for i in food_del_columns]\n",
    "beauty_del_columns = [colnames_dic[str(i)] for i in beauty_del_columns]\n",
    "elec_del_columns = [colnames_dic[str(i)] for i in elec_del_columns]\n",
    "goods_del_columns = [colnames_dic[str(i)] for i in goods_del_columns]\n",
    "health_del_columns = [colnames_dic[str(i)] for i in health_del_columns]\n",
    "etc_del_columns = [colnames_dic[str(i)] for i in etc_del_columns]\n",
    "furn_del_columns = [colnames_dic[str(i)] for i in furn_del_columns]\n",
    "bed_del_columns = [colnames_dic[str(i)] for i in bed_del_columns]"
   ]
  },
  {
   "cell_type": "code",
   "execution_count": null,
   "metadata": {},
   "outputs": [],
   "source": [
    "## train test split된 걸 상품군 별로 나눔\n",
    "\n",
    "def train_test_grp(X_train, X_test, y_train, y_test, prod_group, grp_index):\n",
    "    new_X_train = X_train[X_train[\"상품군\"] == prod_group[grp_index]].drop(\"상품군\", axis=1)\n",
    "    new_X_test = X_test[X_test[\"상품군\"] == prod_group[grp_index]].drop(\"상품군\", axis=1)\n",
    "    new_y_train = y_train[X_train[\"상품군\"] == prod_group[grp_index]]\n",
    "    new_y_test = y_test[X_test[\"상품군\"] == prod_group[grp_index]]\n",
    "    return new_X_train, new_X_test, new_y_train, new_y_test\n",
    "\n",
    "X_train_clothes, X_test_clothes, y_train_clothes, y_test_clothes = train_test_grp(X_train, X_test, y_train, y_test, prod_group, 0)\n",
    "X_train_inner, X_test_inner, y_train_inner, y_test_inner = train_test_grp(X_train, X_test, y_train, y_test, prod_group, 1)\n",
    "X_train_kitchen, X_test_kitchen, y_train_kitchen, y_test_kitchen = train_test_grp(X_train, X_test, y_train, y_test, prod_group, 2)\n",
    "X_train_food, X_test_food, y_train_food, y_test_food = train_test_grp(X_train, X_test, y_train, y_test, prod_group, 3)\n",
    "X_train_beauty, X_test_beauty, y_train_beauty, y_test_beauty = train_test_grp(X_train, X_test, y_train, y_test, prod_group, 4)\n",
    "X_train_elec, X_test_elec, y_train_elec, y_test_elec = train_test_grp(X_train, X_test, y_train, y_test, prod_group, 5)\n",
    "X_train_goods, X_test_goods, y_train_goods, y_test_goods = train_test_grp(X_train, X_test, y_train, y_test, prod_group, 6)\n",
    "X_train_health, X_test_health, y_train_health, y_test_health = train_test_grp(X_train, X_test, y_train, y_test, prod_group, 7)\n",
    "X_train_etc, X_test_etc, y_train_etc, y_test_etc = train_test_grp(X_train, X_test, y_train, y_test, prod_group, 8)\n",
    "X_train_furn, X_test_furn, y_train_furn, y_test_furn = train_test_grp(X_train, X_test, y_train, y_test, prod_group, 9)\n",
    "X_train_bed, X_test_bed, y_train_bed, y_test_bed = train_test_grp(X_train, X_test, y_train, y_test, prod_group, 10)"
   ]
  },
  {
   "cell_type": "code",
   "execution_count": null,
   "metadata": {},
   "outputs": [],
   "source": [
    "X_train_clothes = X_train_clothes.drop(clothes_del_columns,axis=1)\n",
    "X_train_inner = X_train_inner.drop(inner_del_columns,axis=1)\n",
    "X_train_kitchen = X_train_kitchen.drop(kitchen_del_columns,axis=1)\n",
    "X_train_food = X_train_food.drop(food_del_columns,axis=1)\n",
    "X_train_beauty = X_train_beauty.drop(beauty_del_columns,axis=1)\n",
    "X_train_elec = X_train_elec.drop(elec_del_columns,axis=1)\n",
    "X_train_goods = X_train_goods.drop(goods_del_columns,axis=1)\n",
    "X_train_health = X_train_health.drop(health_del_columns,axis=1)\n",
    "X_train_etc = X_train_etc.drop(etc_del_columns,axis=1)\n",
    "X_train_furn = X_train_furn.drop(furn_del_columns,axis=1)\n",
    "X_train_bed = X_train_bed.drop(bed_del_columns,axis=1)\n",
    "\n",
    "X_test_clothes = X_test_clothes.drop(clothes_del_columns,axis=1)\n",
    "X_test_inner = X_test_inner.drop(inner_del_columns,axis=1)\n",
    "X_test_kitchen = X_test_kitchen.drop(kitchen_del_columns,axis=1)\n",
    "X_test_food = X_test_food.drop(food_del_columns,axis=1)\n",
    "X_test_beauty = X_test_beauty.drop(beauty_del_columns,axis=1)\n",
    "X_test_elec = X_test_elec.drop(elec_del_columns,axis=1)\n",
    "X_test_goods = X_test_goods.drop(goods_del_columns,axis=1)\n",
    "X_test_health = X_test_health.drop(health_del_columns,axis=1)\n",
    "X_test_etc = X_test_etc.drop(etc_del_columns,axis=1)\n",
    "X_test_furn = X_test_furn.drop(furn_del_columns,axis=1)\n",
    "X_test_bed = X_test_bed.drop(bed_del_columns,axis=1)"
   ]
  },
  {
   "cell_type": "code",
   "execution_count": null,
   "metadata": {},
   "outputs": [],
   "source": [
    "# scaling\n",
    "from sklearn.preprocessing import StandardScaler\n",
    "\n",
    "scaler = StandardScaler()\n",
    "\n",
    "X_train_clothes_scaled = pd.DataFrame(scaler.fit_transform(X_train_clothes))\n",
    "X_test_clothes_scaled = pd.DataFrame(scaler.transform(X_test_clothes))\n",
    "X_train_inner_scaled = pd.DataFrame(scaler.fit_transform(X_train_inner))\n",
    "X_test_inner_scaled = pd.DataFrame(scaler.transform(X_test_inner))\n",
    "X_train_kitchen_scaled = pd.DataFrame(scaler.fit_transform(X_train_kitchen))\n",
    "X_test_kitchen_scaled = pd.DataFrame(scaler.transform(X_test_kitchen))\n",
    "X_train_food_scaled = pd.DataFrame(scaler.fit_transform(X_train_food))\n",
    "X_test_food_scaled = pd.DataFrame(scaler.transform(X_test_food))\n",
    "X_train_beauty_scaled = pd.DataFrame(scaler.fit_transform(X_train_beauty))\n",
    "X_test_beauty_scaled = pd.DataFrame(scaler.transform(X_test_beauty))\n",
    "X_train_elec_scaled = pd.DataFrame(scaler.fit_transform(X_train_elec))\n",
    "X_test_elec_scaled = pd.DataFrame(scaler.transform(X_test_elec))\n",
    "X_train_goods_scaled = pd.DataFrame(scaler.fit_transform(X_train_goods))\n",
    "X_test_goods_scaled = pd.DataFrame(scaler.transform(X_test_goods))\n",
    "X_train_health_scaled = pd.DataFrame(scaler.fit_transform(X_train_health))\n",
    "X_test_health_scaled = pd.DataFrame(scaler.transform(X_test_health))\n",
    "X_train_etc_scaled = pd.DataFrame(scaler.fit_transform(X_train_etc))\n",
    "X_test_etc_scaled = pd.DataFrame(scaler.transform(X_test_etc))\n",
    "X_train_furn_scaled = pd.DataFrame(scaler.fit_transform(X_train_furn))\n",
    "X_test_furn_scaled = pd.DataFrame(scaler.transform(X_test_furn))\n",
    "X_train_bed_scaled = pd.DataFrame(scaler.fit_transform(X_train_bed))\n",
    "X_test_bed_scaled = pd.DataFrame(scaler.transform(X_test_bed))"
   ]
  },
  {
   "cell_type": "markdown",
   "metadata": {},
   "source": [
    "### Catboost용 데이터 처리"
   ]
  },
  {
   "cell_type": "code",
   "execution_count": null,
   "metadata": {},
   "outputs": [],
   "source": [
    "prod_group_cat = test_data_cat[\"상품군\"].unique()\n",
    "prod_group_dct_cat = {v:k for k, v in enumerate(prod_group_cat)}"
   ]
  },
  {
   "cell_type": "code",
   "execution_count": null,
   "metadata": {},
   "outputs": [],
   "source": [
    "## 추후 전체 set에 대한 mape를 구하기 위해서 split을 해줌.\n",
    "\n",
    "predict_data_cat = test_data_cat[test_data_cat.취급액 == -1].reset_index(drop=True)\n",
    "train_set_cat = test_data_cat[test_data_cat['취급액'] != -1]\n",
    "\n",
    "X_cat = train_set_cat.drop([\"취급액\"], axis = 1)\n",
    "y_cat = train_set_cat[\"취급액\"]\n",
    "\n",
    "grp_idx_cat = train_set_cat['상품군'].map(prod_group_dct_cat)\n",
    "X_train_cat, X_test_cat, y_train_cat, y_test_cat = train_test_split(X_cat, y_cat, random_state=0, stratify = grp_idx_cat)"
   ]
  },
  {
   "cell_type": "code",
   "execution_count": null,
   "metadata": {},
   "outputs": [],
   "source": [
    "## train test split된 걸 상품군 별로 나눔\n",
    "\n",
    "def train_test_grp(X_train, X_test, y_train, y_test, prod_group, grp_index):\n",
    "    new_X_train = X_train[X_train[\"상품군\"] == prod_group[grp_index]].drop(\"상품군\", axis=1)\n",
    "    new_X_test = X_test[X_test[\"상품군\"] == prod_group[grp_index]].drop(\"상품군\", axis=1)\n",
    "    new_y_train = y_train[X_train[\"상품군\"] == prod_group[grp_index]]\n",
    "    new_y_test = y_test[X_test[\"상품군\"] == prod_group[grp_index]]\n",
    "    return new_X_train, new_X_test, new_y_train, new_y_test\n",
    "\n",
    "X_train_clothes_cat, X_test_clothes_cat, y_train_clothes_cat, y_test_clothes_cat = train_test_grp(X_train_cat, X_test_cat, y_train_cat, y_test_cat, prod_group_cat, 0)\n",
    "X_train_inner_cat, X_test_inner_cat, y_train_inner_cat, y_test_inner_cat = train_test_grp(X_train_cat, X_test_cat, y_train_cat, y_test_cat, prod_group_cat, 1)\n",
    "X_train_kitchen_cat, X_test_kitchen_cat, y_train_kitchen_cat, y_test_kitchen_cat = train_test_grp(X_train_cat, X_test_cat, y_train_cat, y_test_cat, prod_group_cat, 2)\n",
    "X_train_food_cat, X_test_food_cat, y_train_food_cat, y_test_food_cat = train_test_grp(X_train_cat, X_test_cat, y_train_cat, y_test_cat, prod_group_cat, 3)\n",
    "X_train_beauty_cat, X_test_beauty_cat, y_train_beauty_cat, y_test_beauty_cat = train_test_grp(X_train_cat, X_test_cat, y_train_cat, y_test_cat, prod_group_cat, 4)\n",
    "X_train_elec_cat, X_test_elec_cat, y_train_elec_cat, y_test_elec_cat = train_test_grp(X_train_cat, X_test_cat, y_train_cat, y_test_cat, prod_group_cat, 5)\n",
    "X_train_goods_cat, X_test_goods_cat, y_train_goods_cat, y_test_goods_cat = train_test_grp(X_train_cat, X_test_cat, y_train_cat, y_test_cat, prod_group_cat, 6)\n",
    "X_train_health_cat, X_test_health_cat, y_train_health_cat, y_test_health_cat = train_test_grp(X_train_cat, X_test_cat, y_train_cat, y_test_cat, prod_group_cat, 7)\n",
    "X_train_etc_cat, X_test_etc_cat, y_train_etc_cat, y_test_etc_cat = train_test_grp(X_train_cat, X_test_cat, y_train_cat, y_test_cat, prod_group_cat, 8)\n",
    "X_train_furn_cat, X_test_furn_cat, y_train_furn_cat, y_test_furn_cat = train_test_grp(X_train_cat, X_test_cat, y_train_cat, y_test_cat, prod_group_cat, 9)\n",
    "X_train_bed_cat, X_test_bed_cat, y_train_bed_cat, y_test_bed_cat = train_test_grp(X_train_cat, X_test_cat, y_train_cat, y_test_cat, prod_group_cat, 10)"
   ]
  },
  {
   "cell_type": "markdown",
   "metadata": {},
   "source": [
    "### **모델지정**"
   ]
  },
  {
   "cell_type": "code",
   "execution_count": null,
   "metadata": {},
   "outputs": [],
   "source": [
    "lgbm1 = LGBMRegressor(bagging_fraction=0.7307137280834164,\n",
    "              feature_fraction=0.17885571364318312,\n",
    "              learning_rate=0.05399675356928432, max_depth=12,\n",
    "              min_child_samples=73, min_child_weight=97.77473030676221,\n",
    "              min_data_in_leaf=3, min_split_gain=0.07355236386628859,\n",
    "              n_estimators=1207, num_leaves=55, objective='tweedie',\n",
    "              sub_sample=0.8782282595207351, random_state=0)\n",
    "lgbm2 = LGBMRegressor(bagging_fraction=0.9278033560669966,\n",
    "              feature_fraction=0.2723596633675743,\n",
    "              learning_rate=0.08501364792701771, max_depth=8,\n",
    "              min_child_samples=87, min_child_weight=76.73725399140089,\n",
    "              min_data_in_leaf=1, min_split_gain=0.07961193791689251,\n",
    "              n_estimators=1210, num_leaves=24, objective='tweedie',\n",
    "              sub_sample=0.9183149006037761, random_state=0)\n",
    "lgbm3 = LGBMRegressor(bagging_fraction=0.5699760518309701,\n",
    "              feature_fraction=0.11616629778968468,\n",
    "              learning_rate=0.17549876792458874, max_depth=7,\n",
    "              min_child_samples=84, min_child_weight=5.811554492331914,\n",
    "              min_data_in_leaf=3, min_split_gain=0.04789200310107769,\n",
    "              n_estimators=1439, num_leaves=637, objective='tweedie',\n",
    "              sub_sample=0.7038030128410426, random_state=0)\n",
    "lgbm4 = LGBMRegressor(bagging_fraction=0.5079841780274699,\n",
    "              feature_fraction=0.15001505244731972,\n",
    "              learning_rate=0.05640935206317574, max_depth=7,\n",
    "              min_child_samples=88, min_child_weight=3.821270143808374,\n",
    "              min_data_in_leaf=0, min_split_gain=0.06344199624185946,\n",
    "              n_estimators=1747, num_leaves=225, objective='tweedie',\n",
    "              sub_sample=0.7022885680852412, random_state=0)\n",
    "lgbm5 = LGBMRegressor(bagging_fraction=0.6364000144639433,\n",
    "              feature_fraction=0.2577693146770039,\n",
    "              learning_rate=0.05830893786024687, max_depth=19,\n",
    "              min_child_samples=9, min_child_weight=33.15266461422622,\n",
    "              min_data_in_leaf=0, min_split_gain=0.022674218802850026,\n",
    "              n_estimators=1656, num_leaves=15, objective='tweedie',\n",
    "              sub_sample=0.8467825255492876, random_state=0)\n",
    "lgbm6 = LGBMRegressor(n_estimators = 500,  num_leaves = 2048, \n",
    "                      boosting_type = \"dart\", random_state = 0, max_depth = 11, \n",
    "                      verbose = 0, n_jobs = -1, objective = 'mape')\n",
    "lgbm7 = LGBMRegressor(bagging_fraction=0.9999999999997822, feature_fraction=0.1,\n",
    "              learning_rate=0.05, max_depth=7, min_child_samples=100,\n",
    "              min_data_in_leaf=0, min_split_gain=0.0010000000003967224,\n",
    "              n_estimators=1744, num_leaves=653, objective='tweedie',\n",
    "              sub_sample=0.9222227228407224, random_state=0)\n",
    "lgbm8 = LGBMRegressor(bagging_fraction=0.5975849393619003, feature_fraction=0.1,\n",
    "              learning_rate=0.05, max_depth=7, min_child_samples=100,\n",
    "              min_child_weight=100.0, min_data_in_leaf=0,\n",
    "              min_split_gain=0.0010000000000559605, n_estimators=1564,\n",
    "              num_leaves=12, objective='tweedie', sub_sample=0.7, random_state=0)\n",
    "lgbm9 = LGBMRegressor(bagging_fraction=0.9984805691308754,\n",
    "              feature_fraction=0.30088006750171986,\n",
    "              learning_rate=0.14620335385613942, max_depth=12,\n",
    "              min_child_samples=2, min_child_weight=85.43148764226444,\n",
    "              min_data_in_leaf=67, min_split_gain=0.06823262603393153,\n",
    "              n_estimators=1183, num_leaves=993, objective='tweedie',\n",
    "              sub_sample=0.8276883785558009, random_state=0)\n",
    "lgbm10 = LGBMRegressor(n_estimators = 500, boosting_type = 'dart', \n",
    "                       num_leaves = 127, random_state = 0, max_depth = 11, \n",
    "                       verbose = 0, n_jobs = -1, objective = 'mape', \n",
    "                       learning_rate = 0.09)\n",
    "lgbm11 = LGBMRegressor(bagging_fraction=0.6046157978828623, feature_fraction=0.1,\n",
    "              learning_rate=0.08138473936485872, max_depth=7,\n",
    "              min_child_samples=0, min_data_in_leaf=11,\n",
    "              min_split_gain=0.0687946498411097, n_estimators=971,\n",
    "              num_leaves=471, objective='tweedie', sub_sample=0.7, random_state=0)"
   ]
  },
  {
   "cell_type": "code",
   "execution_count": null,
   "metadata": {},
   "outputs": [],
   "source": [
    "xgb1 = XGBRegressor(base_score=0.5, booster='gbtree', colsample_bylevel=1,\n",
    "             colsample_bynode=1, colsample_bytree=0.11044585954726314,\n",
    "             eta=0.09234645565909387, gamma=0.06921673321404705, gpu_id=-1,\n",
    "             importance_type='gain', interaction_constraints='',\n",
    "             learning_rate=0.0923464522, max_delta_step=0, max_depth=7,\n",
    "             max_leaves=283, min_child_weight=951.5931410110306,\n",
    "             monotone_constraints='()', n_estimators=1121, n_jobs=0,\n",
    "             num_parallel_tree=1, objective='reg:tweedie', random_state=0,\n",
    "             reg_alpha=0, reg_lambda=1, scale_pos_weight=None,\n",
    "             subsample=0.7745809267896179, tree_method='exact',\n",
    "             validate_parameters=1, verbosity=None)\n",
    "xgb2 = XGBRegressor(base_score=0.5, booster='gbtree', colsample_bylevel=1,\n",
    "             colsample_bynode=1, colsample_bytree=0.4876619535400296,\n",
    "             eta=0.05669375986990678, gamma=0.009309295139350023, gpu_id=-1,\n",
    "             importance_type='gain', interaction_constraints='',\n",
    "             learning_rate=0.0566937588, max_delta_step=0, max_depth=7,\n",
    "             max_leaves=999, min_child_weight=49.71317626175442, \n",
    "             monotone_constraints='()', n_estimators=705, n_jobs=0,\n",
    "             num_parallel_tree=1, objective='reg:tweedie', random_state=0,\n",
    "             reg_alpha=0, reg_lambda=1, scale_pos_weight=None,\n",
    "             subsample=0.8299417446629082, tree_method='exact',\n",
    "             validate_parameters=1, verbosity=None)\n",
    "xgb3 = XGBRegressor(base_score=0.5, booster='gbtree', colsample_bylevel=1,\n",
    "             colsample_bynode=1, colsample_bytree=0.16210634090565457,\n",
    "             eta=0.08736750768138013, gamma=0.05817626686767469, gpu_id=-1,\n",
    "             importance_type='gain', interaction_constraints='',\n",
    "             learning_rate=0.0873675048, max_delta_step=0, max_depth=7,\n",
    "             max_leaves=471, min_child_weight=861.8835231037181, \n",
    "             monotone_constraints='()', n_estimators=1676, n_jobs=0,\n",
    "             num_parallel_tree=1, objective='reg:tweedie', random_state=0,\n",
    "             reg_alpha=0, reg_lambda=1, scale_pos_weight=None,\n",
    "             subsample=0.848851356748161, tree_method='exact',\n",
    "             validate_parameters=1, verbosity=None)\n",
    "xgb4 = XGBRegressor(base_score=0.5, booster='gbtree', colsample_bylevel=1,\n",
    "             colsample_bynode=1, colsample_bytree=0.11044585954726314,\n",
    "             eta=0.09234645565909387, gamma=0.06921673321404705, gpu_id=-1,\n",
    "             importance_type='gain', interaction_constraints='',\n",
    "             learning_rate=0.0923464522, max_delta_step=0, max_depth=7,\n",
    "             max_leaves=283, min_child_weight=951.5931410110306, \n",
    "             monotone_constraints='()', n_estimators=1121, n_jobs=0,\n",
    "             num_parallel_tree=1, objective='reg:tweedie', random_state=0,\n",
    "             reg_alpha=0, reg_lambda=1, scale_pos_weight=None,\n",
    "             subsample=0.7745809267896179, tree_method='exact',\n",
    "             validate_parameters=1, verbosity=None)\n",
    "xgb5 = XGBRegressor(base_score=0.5, booster='gbtree', colsample_bylevel=1,\n",
    "             colsample_bynode=1, colsample_bytree=0.3196831742620959,\n",
    "             eta=0.05209505656752034, gamma=0.04514823863223244, gpu_id=-1,\n",
    "             importance_type='gain', interaction_constraints='',\n",
    "             learning_rate=0.0520950556, max_delta_step=0, max_depth=7,\n",
    "             max_leaves=484, min_child_weight=105.71598217494693, \n",
    "             monotone_constraints='()', n_estimators=684, n_jobs=0,\n",
    "             num_parallel_tree=1, objective='reg:tweedie', random_state=0,\n",
    "             reg_alpha=0, reg_lambda=1, scale_pos_weight=None,\n",
    "             subsample=0.8664474611577506, tree_method='exact',\n",
    "             validate_parameters=1, verbosity=None)\n",
    "xgb6 = XGBRegressor(base_score=0.5, booster='gbtree', colsample_bylevel=1,\n",
    "             colsample_bynode=1, colsample_bytree=0.6224866603723187,\n",
    "             eta=0.08799374038096733, gamma=0.016737988780906453, gpu_id=-1,\n",
    "             importance_type='gain', interaction_constraints='',\n",
    "             learning_rate=0.087993741, max_delta_step=0, max_depth=13,\n",
    "             max_leaves=676, min_child_weight=244.42634757601076, \n",
    "             monotone_constraints='()', n_estimators=665, n_jobs=0,\n",
    "             num_parallel_tree=1,\n",
    "             objective='reg:tweedie',\n",
    "             random_state=0, reg_alpha=0, reg_lambda=1, scale_pos_weight=1,\n",
    "             subsample=0.7414548854045842, tree_method='exact',\n",
    "             validate_parameters=1, verbosity=None)\n",
    "xgb7 = XGBRegressor(base_score=0.5, booster='gbtree', colsample_bylevel=1,\n",
    "             colsample_bynode=1, colsample_bytree=0.21538834418148778,\n",
    "             eta=0.15120509904373458, gamma=0.06208137181317149, gpu_id=-1,\n",
    "             importance_type='gain', interaction_constraints='',\n",
    "             learning_rate=0.151205093, max_delta_step=0, max_depth=7,\n",
    "             max_leaves=957, min_child_weight=648.5462494115064, \n",
    "             monotone_constraints='()', n_estimators=1569, n_jobs=0,\n",
    "             num_parallel_tree=1, objective='reg:tweedie', random_state=0,\n",
    "             reg_alpha=0, reg_lambda=1, scale_pos_weight=None,\n",
    "             subsample=0.9116377368732753, tree_method='exact',\n",
    "             validate_parameters=1, verbosity=None)\n",
    "xgb8 = XGBRegressor(base_score=0.5, booster='gbtree', colsample_bylevel=1,\n",
    "             colsample_bynode=1, colsample_bytree=0.11313066967872505,\n",
    "             eta=0.08340025045635116, gamma=0.05858427776109298, gpu_id=-1,\n",
    "             importance_type='gain', interaction_constraints='',\n",
    "             learning_rate=0.0834002495, max_delta_step=0, max_depth=13,\n",
    "             max_leaves=325, min_child_weight=709.9495700733073, \n",
    "             monotone_constraints='()', n_estimators=1113, n_jobs=0,\n",
    "             num_parallel_tree=1, objective='reg:tweedie', random_state=0,\n",
    "             reg_alpha=0, reg_lambda=1, scale_pos_weight=None,\n",
    "             subsample=0.8429703306961998, tree_method='exact',\n",
    "             validate_parameters=1, verbosity=None)\n",
    "xgb9 = XGBRegressor(base_score=0.5, booster='gbtree', colsample_bylevel=1,\n",
    "             colsample_bynode=1, colsample_bytree=0.11122047820184111,\n",
    "             eta=0.07486537100643052, gamma=0.023776481238799444, gpu_id=-1,\n",
    "             importance_type='gain', interaction_constraints='',\n",
    "             learning_rate=0.074865371, max_delta_step=0, max_depth=9,\n",
    "             max_leaves=275, min_child_weight=963.1135002728994,\n",
    "             monotone_constraints='()', n_estimators=1126, n_jobs=0,\n",
    "             num_parallel_tree=1, objective='reg:tweedie', random_state=0,\n",
    "             reg_alpha=0, reg_lambda=1, scale_pos_weight=None,\n",
    "             subsample=0.9866813645370839, tree_method='exact',\n",
    "             validate_parameters=1, verbosity=None)\n",
    "xgb10 = XGBRegressor(base_score=0.5, booster='gbtree', colsample_bylevel=1,\n",
    "             colsample_bynode=1, colsample_bytree=0.789956577441571,\n",
    "             eta=0.1409391962108311, gamma=0.06058367377353676, gpu_id=-1,\n",
    "             importance_type='gain', interaction_constraints='',\n",
    "             learning_rate=0.140939191, max_delta_step=0, max_depth=10,\n",
    "             max_leaves=279, min_child_weight=568.9477690044143,\n",
    "             monotone_constraints='()', n_estimators=1399, n_jobs=0,\n",
    "             num_parallel_tree=1, objective='reg:tweedie', random_state=0,\n",
    "             reg_alpha=0, reg_lambda=1, scale_pos_weight=None,\n",
    "             subsample=0.7017180830644052, tree_method='exact',\n",
    "             validate_parameters=1, verbosity=None)\n",
    "xgb11 = XGBRegressor(base_score=0.5, booster='gbtree', colsample_bylevel=1,\n",
    "             colsample_bynode=1, colsample_bytree=0.11617471795226059,\n",
    "             eta=0.17489297683219074, gamma=0.09788321588104364, gpu_id=-1,\n",
    "             importance_type='gain', interaction_constraints='',\n",
    "             learning_rate=0.174892977, max_delta_step=0, max_depth=17,\n",
    "             max_leaves=479, min_child_weight=870.0122782346709,\n",
    "             monotone_constraints='()', n_estimators=1698, n_jobs=0,\n",
    "             num_parallel_tree=1, objective='reg:tweedie', random_state=0,\n",
    "             reg_alpha=0, reg_lambda=1, scale_pos_weight=None,\n",
    "             subsample=0.9341587528859366, tree_method='exact',\n",
    "             validate_parameters=1, verbosity=None)"
   ]
  },
  {
   "cell_type": "code",
   "execution_count": null,
   "metadata": {},
   "outputs": [],
   "source": [
    "CatBoost_clothes = CatBoostRegressor(n_estimators = 3200,\n",
    "                             loss_function = 'MAE',\n",
    "                             eval_metric = 'MAPE',\n",
    "                             depth = 8,\n",
    "                             cat_features = ['상품코드','마더코드','상품명','소분류','prime_time','중분류','요일','season','남여','muil','season_prod','season','브랜드'],                             \n",
    "                             verbose=0,\n",
    "                             random_seed = 0,\n",
    "                             task_type='CPU')\n",
    "CatBoost_inner = CatBoostRegressor(n_estimators = 4000,\n",
    "                             loss_function = 'MAE',\n",
    "                             eval_metric = 'MAPE',\n",
    "                             depth = 7,\n",
    "                             cat_features = ['상품코드','마더코드','상품명','소분류','prime_time','중분류','요일','season','남여','muil','season_prod','season','브랜드'],                             \n",
    "                             verbose=0,\n",
    "                             random_seed = 0,\n",
    "                             task_type='CPU')\n",
    "CatBoost_kitchen = CatBoostRegressor(n_estimators = 4000,\n",
    "                             loss_function = 'MAE',\n",
    "                             eval_metric = 'MAPE',\n",
    "                             depth = 7,\n",
    "                             cat_features = ['상품코드','마더코드','상품명','소분류','prime_time','중분류','요일','season','남여','muil','season_prod','season','브랜드'],                             \n",
    "                             verbose=0,\n",
    "                             random_seed = 0,\n",
    "                             task_type='CPU')\n",
    "CatBoost_food = CatBoostRegressor(n_estimators = 6000,\n",
    "                             loss_function = 'MAE',\n",
    "                             eval_metric = 'MAPE',\n",
    "                             depth = 9,\n",
    "                             cat_features = ['상품코드','마더코드','상품명','소분류','prime_time','중분류','요일','season','남여','muil','season_prod','season','브랜드'],                             \n",
    "                             verbose=0,\n",
    "                             random_seed = 0,\n",
    "                             task_type='CPU')\n",
    "CatBoost_beauty = CatBoostRegressor(n_estimators = 4000,\n",
    "                             loss_function = 'MAE',\n",
    "                             eval_metric = 'MAPE',\n",
    "                             depth = 7,\n",
    "                             cat_features = ['상품코드','마더코드','상품명','소분류','prime_time','중분류','요일','season','남여','muil','season_prod','season','브랜드'],                             \n",
    "                             verbose=0,\n",
    "                             random_seed = 0,\n",
    "                             task_type='CPU')\n",
    "CatBoost_elec = CatBoostRegressor(n_estimators = 6000,\n",
    "                             loss_function = 'MAE',\n",
    "                             eval_metric = 'MAPE',\n",
    "                             depth = 9,\n",
    "                             cat_features = ['상품코드','마더코드','상품명','소분류','prime_time','중분류','요일','season','남여','muil','season_prod','season','브랜드'],                             \n",
    "                             verbose=0,\n",
    "                             random_seed = 0,\n",
    "                             task_type='CPU')\n",
    "CatBoost_goods = CatBoostRegressor(n_estimators = 5500,\n",
    "                             loss_function = 'MAE',\n",
    "                             eval_metric = 'MAPE',\n",
    "                             depth = 8,\n",
    "                             cat_features = ['상품코드','마더코드','상품명','소분류','prime_time','중분류','요일','season','남여','muil','season_prod','season','브랜드'],                             \n",
    "                             verbose=0,\n",
    "                             random_seed = 0,\n",
    "                             task_type='CPU')\n",
    "CatBoost_health = CatBoostRegressor(n_estimators = 5200,\n",
    "                             loss_function = 'MAE',\n",
    "                             eval_metric = 'MAPE',\n",
    "                             depth = 7,\n",
    "                             cat_features = ['상품코드','마더코드','상품명','소분류','prime_time','중분류','요일','season','남여','muil','season_prod','season','브랜드'],                             \n",
    "                             verbose=0,\n",
    "                             random_seed = 0,\n",
    "                             task_type='CPU')\n",
    "CatBoost_etc = CatBoostRegressor(n_estimators = 5000,\n",
    "                             loss_function = 'MAE',\n",
    "                             eval_metric = 'MAPE',\n",
    "                             depth = 8,\n",
    "                             cat_features = ['상품코드','마더코드','상품명','소분류','prime_time','중분류','요일','season','남여','muil','season_prod','season','브랜드'],                             \n",
    "                             verbose=0,\n",
    "                             random_seed = 0,\n",
    "                             task_type='CPU')\n",
    "CatBoost_furn = CatBoostRegressor(n_estimators = 4000,\n",
    "                             loss_function = 'MAE',\n",
    "                             eval_metric = 'MAPE',\n",
    "                             depth = 7,\n",
    "                             cat_features = ['상품코드','마더코드','상품명','소분류','prime_time','중분류','요일','season','남여','muil','season_prod','season','브랜드'],                             \n",
    "                             verbose=0,\n",
    "                             random_seed = 0,\n",
    "                             task_type='CPU')\n",
    "CatBoost_bed = CatBoostRegressor(n_estimators = 4500,\n",
    "                             loss_function = 'MAE',\n",
    "                             eval_metric = 'MAPE',\n",
    "                             depth = 7,\n",
    "                             cat_features = ['상품코드','마더코드','상품명','소분류','prime_time','중분류','요일','season','남여','muil','season_prod','season','브랜드'],                             \n",
    "                             verbose=0,\n",
    "                             random_seed = 0,\n",
    "                             task_type='CPU')\n",
    "CatBoost = CatBoostRegressor(n_estimators = 3000,\n",
    "                             loss_function = 'MAE',\n",
    "                             eval_metric = 'MAPE',\n",
    "                             depth = 7,\n",
    "                             cat_features = ['상품군','상품코드','마더코드','상품명','소분류','prime_time','중분류','요일','season','남여','muil','season_prod','season','브랜드'],                             \n",
    "                             verbose=0,\n",
    "                             random_seed = 0,\n",
    "                             task_type='CPU')"
   ]
  },
  {
   "cell_type": "markdown",
   "metadata": {},
   "source": [
    "### fitting"
   ]
  },
  {
   "cell_type": "code",
   "execution_count": null,
   "metadata": {},
   "outputs": [],
   "source": [
    "# model fitting\n",
    "\n",
    "pred1_lgb = lgbm1.fit(X_train_clothes_scaled, y_train_clothes).predict(X_test_clothes_scaled)\n",
    "pred2_lgb = lgbm2.fit(X_train_inner_scaled, y_train_inner).predict(X_test_inner_scaled)\n",
    "pred3_lgb = lgbm3.fit(X_train_kitchen_scaled, y_train_kitchen).predict(X_test_kitchen_scaled)\n",
    "pred4_lgb = lgbm4.fit(X_train_food_scaled, y_train_food).predict(X_test_food_scaled)\n",
    "pred5_lgb = lgbm5.fit(X_train_beauty_scaled, y_train_beauty).predict(X_test_beauty_scaled)\n",
    "pred6_lgb = lgbm6.fit(X_train_elec_scaled, y_train_elec).predict(X_test_elec_scaled)\n",
    "pred7_lgb = lgbm7.fit(X_train_goods_scaled, y_train_goods).predict(X_test_goods_scaled)\n",
    "pred8_lgb = lgbm8.fit(X_train_health_scaled, y_train_health).predict(X_test_health_scaled)\n",
    "pred9_lgb = lgbm9.fit(X_train_etc_scaled, y_train_etc).predict(X_test_etc_scaled)\n",
    "pred10_lgb = lgbm10.fit(X_train_furn_scaled, y_train_furn).predict(X_test_furn_scaled)\n",
    "pred11_lgb = lgbm11.fit(X_train_bed_scaled, y_train_bed).predict(X_test_bed_scaled)"
   ]
  },
  {
   "cell_type": "code",
   "execution_count": null,
   "metadata": {},
   "outputs": [],
   "source": [
    "# model fitting\n",
    "\n",
    "pred1_xgb = xgb1.fit(X_train_clothes_scaled, y_train_clothes).predict(X_test_clothes_scaled)\n",
    "pred2_xgb = xgb2.fit(X_train_inner_scaled, y_train_inner).predict(X_test_inner_scaled)\n",
    "pred3_xgb = xgb3.fit(X_train_kitchen_scaled, y_train_kitchen).predict(X_test_kitchen_scaled)\n",
    "pred4_xgb = xgb4.fit(X_train_food_scaled, y_train_food).predict(X_test_food_scaled)\n",
    "pred5_xgb = xgb5.fit(X_train_beauty_scaled, y_train_beauty).predict(X_test_beauty_scaled)\n",
    "pred6_xgb = xgb6.fit(X_train_elec_scaled, y_train_elec).predict(X_test_elec_scaled)\n",
    "pred7_xgb = xgb7.fit(X_train_goods_scaled, y_train_goods).predict(X_test_goods_scaled)\n",
    "pred8_xgb = xgb8.fit(X_train_health_scaled, y_train_health).predict(X_test_health_scaled)\n",
    "pred9_xgb = xgb9.fit(X_train_etc_scaled, y_train_etc).predict(X_test_etc_scaled)\n",
    "pred10_xgb = xgb10.fit(X_train_furn_scaled, y_train_furn).predict(X_test_furn_scaled)\n",
    "pred11_xgb = xgb11.fit(X_train_bed_scaled, y_train_bed).predict(X_test_bed_scaled)"
   ]
  },
  {
   "cell_type": "code",
   "execution_count": null,
   "metadata": {},
   "outputs": [],
   "source": [
    "pred1_cat = CatBoost_clothes.fit(X_train_clothes_cat, y_train_clothes_cat).predict(X_test_clothes_cat)\n",
    "pred2_cat = CatBoost_inner.fit(X_train_inner_cat, y_train_inner_cat).predict(X_test_inner_cat)\n",
    "pred3_cat = CatBoost_kitchen.fit(X_train_kitchen_cat, y_train_kitchen_cat).predict(X_test_kitchen_cat)\n",
    "pred4_cat = CatBoost_food.fit(X_train_food_cat, y_train_food_cat).predict(X_test_food_cat)\n",
    "pred5_cat = CatBoost_beauty.fit(X_train_beauty_cat, y_train_beauty_cat).predict(X_test_beauty_cat)\n",
    "pred6_cat = CatBoost_elec.fit(X_train_elec_cat, y_train_elec_cat).predict(X_test_elec_cat)\n",
    "pred7_cat = CatBoost_goods.fit(X_train_goods_cat, y_train_goods_cat).predict(X_test_goods_cat)\n",
    "pred8_cat = CatBoost_health.fit(X_train_health_cat, y_train_health_cat).predict(X_test_health_cat)\n",
    "pred9_cat = CatBoost_etc.fit(X_train_etc_cat, y_train_etc_cat).predict(X_test_etc_cat)\n",
    "pred10_cat = CatBoost_furn.fit(X_train_furn_cat, y_train_furn_cat).predict(X_test_furn_cat)\n",
    "pred11_cat = CatBoost_bed.fit(X_train_bed_cat, y_train_bed_cat).predict(X_test_bed_cat)\n"
   ]
  },
  {
   "cell_type": "code",
   "execution_count": null,
   "metadata": {},
   "outputs": [],
   "source": [
    "predictions_lgb = [pred1_lgb, pred2_lgb, pred3_lgb, pred4_lgb, pred5_lgb, pred6_lgb, pred7_lgb, pred8_lgb, pred9_lgb, pred10_lgb, pred11_lgb] # selection한 결과물\n",
    "predictions_xgb = [pred1_xgb, pred2_xgb, pred3_xgb, pred4_xgb, pred5_xgb, pred6_xgb, pred7_xgb, pred8_xgb, pred9_xgb, pred10_xgb, pred11_xgb] \n",
    "predictions_cat = [pred1_cat, pred2_cat, pred3_cat, pred4_cat, pred5_cat, pred6_cat, pred7_cat, pred8_cat, pred9_cat, pred10_cat, pred11_cat]\n",
    "trues = [y_test_clothes, y_test_inner, y_test_kitchen, y_test_food, y_test_beauty, y_test_elec, y_test_goods, y_test_health, y_test_etc, y_test_furn, y_test_bed]"
   ]
  },
  {
   "cell_type": "markdown",
   "metadata": {},
   "source": [
    "### 기존 format으로 변경 후 mape 계산"
   ]
  },
  {
   "cell_type": "code",
   "execution_count": null,
   "metadata": {},
   "outputs": [],
   "source": [
    "y_pred_lgbm = np.zeros_like(y_test)"
   ]
  },
  {
   "cell_type": "code",
   "execution_count": null,
   "metadata": {},
   "outputs": [],
   "source": [
    "prod_group"
   ]
  },
  {
   "cell_type": "code",
   "execution_count": null,
   "metadata": {},
   "outputs": [],
   "source": [
    "# y_test format으로 다시 넣어주기\n",
    "for i in range(len(prod_group)):\n",
    "      y_pred_lgbm[X_test[\"상품군\"] == prod_group[i]] = predictions_lgb[i]"
   ]
  },
  {
   "cell_type": "code",
   "execution_count": null,
   "metadata": {},
   "outputs": [],
   "source": [
    "y_pred_xgb = np.zeros_like(y_test)"
   ]
  },
  {
   "cell_type": "code",
   "execution_count": null,
   "metadata": {},
   "outputs": [],
   "source": [
    "# y_test format으로 다시 넣어주기\n",
    "for i in range(len(prod_group)):\n",
    "      y_pred_xgb[X_test[\"상품군\"] == prod_group[i]] = predictions_xgb[i]"
   ]
  },
  {
   "cell_type": "code",
   "execution_count": null,
   "metadata": {},
   "outputs": [],
   "source": [
    "y_pred_cat = np.zeros_like(y_test)"
   ]
  },
  {
   "cell_type": "code",
   "execution_count": null,
   "metadata": {},
   "outputs": [],
   "source": [
    "# y_test format으로 다시 넣어주기\n",
    "for i in range(len(prod_group_cat)):\n",
    "      y_pred_cat[X_test_cat[\"상품군\"] == prod_group_cat[i]] = predictions_cat[i]"
   ]
  },
  {
   "cell_type": "code",
   "execution_count": null,
   "metadata": {},
   "outputs": [],
   "source": [
    "### LGBM\n",
    "mape_list = []\n",
    "for pred, true in zip(predictions_lgb, trues):\n",
    "    mape_res = mape(true, pred)\n",
    "    print(f\"mape: {mape_res}\" )\n",
    "    mape_list.append(mape_res)"
   ]
  },
  {
   "cell_type": "code",
   "execution_count": null,
   "metadata": {},
   "outputs": [],
   "source": [
    "### XGB \n",
    "mape_list = []\n",
    "for pred, true in zip(predictions_xgb, trues):\n",
    "    mape_res = mape(true, pred)\n",
    "    print(f\"mape: {mape_res}\" )\n",
    "    mape_list.append(mape_res)"
   ]
  },
  {
   "cell_type": "code",
   "execution_count": null,
   "metadata": {},
   "outputs": [],
   "source": [
    "### CAT\n",
    "mape_list = []\n",
    "for pred, true in zip(predictions_cat, trues):\n",
    "    mape_res = mape(true, pred)\n",
    "    print(f\"mape: {mape_res}\" )\n",
    "    mape_list.append(mape_res)"
   ]
  },
  {
   "cell_type": "code",
   "execution_count": null,
   "metadata": {},
   "outputs": [],
   "source": [
    "# lgbm\n",
    "mape(y_test,y_pred_lgbm)"
   ]
  },
  {
   "cell_type": "code",
   "execution_count": null,
   "metadata": {},
   "outputs": [],
   "source": [
    "# xgb\n",
    "mape(y_test,y_pred_xgb)"
   ]
  },
  {
   "cell_type": "code",
   "execution_count": null,
   "metadata": {},
   "outputs": [],
   "source": [
    "# cat\n",
    "mape(y_test,y_pred_cat)"
   ]
  },
  {
   "cell_type": "markdown",
   "metadata": {},
   "source": [
    "# **SAVE && LOAD MODEL**"
   ]
  },
  {
   "cell_type": "code",
   "execution_count": null,
   "metadata": {},
   "outputs": [],
   "source": [
    "# Model Save\n",
    "def model_save():\n",
    "    joblib.dump(lgbm1, f\"../model/boosting_model/lgbm1.pickle\")\n",
    "    joblib.dump(lgbm2, f\"../model/boosting_model/lgbm2.pickle\")\n",
    "    joblib.dump(lgbm3, f\"../model/boosting_model/lgbm3.pickle\")\n",
    "    joblib.dump(lgbm4, f\"../model/boosting_model/lgbm4.pickle\")\n",
    "    joblib.dump(lgbm5, f\"../model/boosting_model/lgbm5.pickle\")\n",
    "    joblib.dump(lgbm6, f\"../model/boosting_model/lgbm6.pickle\")\n",
    "    joblib.dump(lgbm7, f\"../model/boosting_model/lgbm7.pickle\")\n",
    "    joblib.dump(lgbm8, f\"../model/boosting_model/lgbm8.pickle\")\n",
    "    joblib.dump(lgbm9, f\"../model/boosting_model/lgbm9.pickle\")\n",
    "    joblib.dump(lgbm10, f\"../model/boosting_model/lgbm10.pickle\")\n",
    "    joblib.dump(lgbm11, f\"../model/boosting_model/lgbm11.pickle\")\n",
    "    \n",
    "    joblib.dump(xgb1, f\"../model/boosting_model/xgb1.pickle\")\n",
    "    joblib.dump(xgb2, f\"../model/boosting_model/xgb2.pickle\")\n",
    "    joblib.dump(xgb3, f\"../model/boosting_model/xgb3.pickle\")\n",
    "    joblib.dump(xgb4, f\"../model/boosting_model/xgb4.pickle\")\n",
    "    joblib.dump(xgb5, f\"../model/boosting_model/xgb5.pickle\")\n",
    "    joblib.dump(xgb6, f\"../model/boosting_model/xgb6.pickle\")\n",
    "    joblib.dump(xgb7, f\"../model/boosting_model/xgb7.pickle\")\n",
    "    joblib.dump(xgb8, f\"../model/boosting_model/xgb8.pickle\")\n",
    "    joblib.dump(xgb9, f\"../model/boosting_model/xgb9.pickle\")\n",
    "    joblib.dump(xgb10, f\"../model/boosting_model/xgb10.pickle\")\n",
    "    joblib.dump(xgb11, f\"../model/boosting_model/xgb11.pickle\")\n",
    "\n",
    "  ## result 저장"
   ]
  },
  {
   "cell_type": "code",
   "execution_count": null,
   "metadata": {},
   "outputs": [],
   "source": [
    "# Model Save\n",
    "def model_load():\n",
    "    lgbm1 = joblib.load(\"../model/boosting_model/lgbm1.pickle\")\n",
    "    lgbm2 = joblib.load(\"../model/boosting_model/lgbm2.pickle\")\n",
    "    lgbm3 = joblib.load(\"../model/boosting_model/lgbm3.pickle\")\n",
    "    lgbm4 = joblib.load(\"../model/boosting_model/lgbm4.pickle\")\n",
    "    lgbm5 = joblib.load(\"../model/boosting_model/lgbm5.pickle\")\n",
    "    lgbm6 = joblib.load(\"../model/boosting_model/lgbm6.pickle\")\n",
    "    lgbm7 = joblib.load(\"../model/boosting_model/lgbm7.pickle\")\n",
    "    lgbm8 = joblib.load(\"../model/boosting_model/lgbm8.pickle\")\n",
    "    lgbm9 = joblib.load(\"../model/boosting_model/lgbm9.pickle\")\n",
    "    lgbm10 = joblib.load(\"../model/boosting_model/lgbm10.pickle\")\n",
    "    lgbm11 = joblib.load(\"../model/boosting_model/lgbm11.pickle\")\n",
    "    \n",
    "    xgb1 = joblib.load(\"../model/boosting_model/xgb1.pickle\")\n",
    "    xgb2 = joblib.load(\"../model/boosting_model/xgb2.pickle\")\n",
    "    xgb3 = joblib.load(\"../model/boosting_model/xgb3.pickle\")\n",
    "    xgb4 = joblib.load(\"../model/boosting_model/xgb4.pickle\")\n",
    "    xgb5 = joblib.load(\"../model/boosting_model/xgb5.pickle\")\n",
    "    xgb6 = joblib.load(\"../model/boosting_model/xgb6.pickle\")\n",
    "    xgb7 = joblib.load(\"../model/boosting_model/xgb7.pickle\")\n",
    "    xgb8 = joblib.load(\"../model/boosting_model/xgb8.pickle\")\n",
    "    xgb9 = joblib.load(\"../model/boosting_model/xgb9.pickle\")\n",
    "    xgb10 = joblib.load(\"../model/boosting_model/xgb10.pickle\")\n",
    "    xgb11 = joblib.load(\"../model/boosting_model/xgb11.pickle\")\n",
    "    \n",
    "    return lgbm1, lgbm2, lgbm3, lgbm4, lgbm5, lgbm6, lgbm7, lgbm8, lgbm9, lgbm10, lgbm11, xgb1, xgb2, xgb3, xgb4, xgb5, xgb6, xgb7, xgb8, xgb9, xgb10, xgb11\n",
    "\n",
    "  ## result 저장"
   ]
  },
  {
   "cell_type": "code",
   "execution_count": null,
   "metadata": {},
   "outputs": [],
   "source": [
    "CatBoost_clothes.save_model(\"../model/boosting_model/catboost_clothes.cbm\")\n",
    "CatBoost_inner.save_model(\"../model/boosting_model/catboost_inner.cbm\")\n",
    "CatBoost_kitchen.save_model(\"../model/boosting_model/catboost_kitchen.cbm\")\n",
    "CatBoost_food.save_model(\"../model/boosting_model/catboost_food.cbm\")\n",
    "CatBoost_beauty.save_model(\"../model/boosting_model/catboost_beauty.cbm\")\n",
    "CatBoost_elec.save_model(\"../model/boosting_model/catboost_elec.cbm\")\n",
    "CatBoost_goods.save_model(\"../model/boosting_model/catboost_goods.cbm\")\n",
    "CatBoost_health.save_model(\"../model/boosting_model/catboost_health.cbm\")\n",
    "CatBoost_etc.save_model(\"../model/boosting_model/catboost_etc.cbm\")\n",
    "CatBoost_furn.save_model(\"../model/boosting_model/catboost_furn.cbm\")\n",
    "CatBoost_bed.save_model(\"../model/boosting_model/catboost_bed.cbm\")"
   ]
  },
  {
   "cell_type": "code",
   "execution_count": null,
   "metadata": {},
   "outputs": [],
   "source": [
    "model_save()"
   ]
  },
  {
   "cell_type": "code",
   "execution_count": null,
   "metadata": {},
   "outputs": [],
   "source": [
    "CatBoost_clothes = CatBoostRegressor()\n",
    "CatBoost_inner = CatBoostRegressor()\n",
    "CatBoost_kitchen = CatBoostRegressor()\n",
    "CatBoost_food = CatBoostRegressor()\n",
    "CatBoost_beauty = CatBoostRegressor()\n",
    "CatBoost_elec = CatBoostRegressor()\n",
    "CatBoost_goods = CatBoostRegressor()\n",
    "CatBoost_health = CatBoostRegressor()\n",
    "CatBoost_etc = CatBoostRegressor()\n",
    "CatBoost_furn = CatBoostRegressor()\n",
    "CatBoost_bed = CatBoostRegressor()"
   ]
  },
  {
   "cell_type": "code",
   "execution_count": null,
   "metadata": {},
   "outputs": [],
   "source": [
    "CatBoost_clothes.load_model(\"../model/boosting_model/catboost_clothes.cbm\")\n",
    "CatBoost_inner.load_model(\"../model/boosting_model/catboost_inner.cbm\")\n",
    "CatBoost_kitchen.load_model(\"../model/boosting_model/catboost_kitchen.cbm\")\n",
    "CatBoost_food.load_model(\"../model/boosting_model/catboost_food.cbm\")\n",
    "CatBoost_beauty.load_model(\"../model/boosting_model/catboost_beauty.cbm\")\n",
    "CatBoost_elec.load_model(\"../model/boosting_model/catboost_elec.cbm\")\n",
    "CatBoost_goods.load_model(\"../model/boosting_model/catboost_goods.cbm\")\n",
    "CatBoost_health.load_model(\"../model/boosting_model/catboost_health.cbm\")\n",
    "CatBoost_etc.load_model(\"../model/boosting_model/catboost_etc.cbm\")\n",
    "CatBoost_furn.load_model(\"../model/boosting_model/catboost_furn.cbm\")\n",
    "CatBoost_bed.load_model(\"../model/boosting_model/catboost_bed.cbm\")"
   ]
  },
  {
   "cell_type": "code",
   "execution_count": null,
   "metadata": {},
   "outputs": [],
   "source": [
    "model_load()"
   ]
  },
  {
   "cell_type": "markdown",
   "metadata": {},
   "source": [
    "### **앙상블을 위한 데이터 다시 불러오기**"
   ]
  },
  {
   "cell_type": "code",
   "execution_count": null,
   "metadata": {},
   "outputs": [],
   "source": [
    "# 라벨 인코딩\n",
    "test_data = performance_data.drop(['방송일시','판매량', 'holiday', '대비', 'date', 'mean_rating', \n",
    "                                   '배당수익률(%)', '주가자산비율', '고가지수', '저가지수', '거래량(천주)', '거래대금(백만원)','상장시가총액(백만원)'],axis=1)\n",
    "\n",
    "# test_data['상품코드'] = test_data['상품코드'].map(int)\n",
    "for feat in ['상품명','상품코드','상품군','마더코드','prime_time','중분류','요일','season','남여','muil','브랜드','season_prod','소분류']:\n",
    "    lbe = LabelEncoder()\n",
    "    test_data[feat] = lbe.fit_transform(test_data[feat].astype(str).values)\n",
    "\n"
   ]
  },
  {
   "cell_type": "code",
   "execution_count": null,
   "metadata": {},
   "outputs": [],
   "source": [
    "original_colnames = list(test_data.drop('취급액',axis=1).columns)\n",
    "new_colnames = []\n",
    "for i in range(len(test_data.drop('취급액',axis=1).columns)):\n",
    "    new_colnames.append(i)\n",
    "colnames_dic2 = {}\n",
    "for i in range(len(original_colnames)):\n",
    "    colnames_dic2[str(new_colnames[i])] = original_colnames[i]\n",
    "    "
   ]
  },
  {
   "cell_type": "code",
   "execution_count": null,
   "metadata": {},
   "outputs": [],
   "source": [
    "all_del_colmns = [33,10,37,35,16,18,9,14,15,21,24,17]\n",
    "all_del_colmns = [colnames_dic2[str(i)] for i in all_del_colmns]"
   ]
  },
  {
   "cell_type": "code",
   "execution_count": null,
   "metadata": {},
   "outputs": [],
   "source": [
    "prod_group = test_data[\"상품군\"].unique()\n",
    "prod_group_dct = {v:k for k, v in enumerate(prod_group)}"
   ]
  },
  {
   "cell_type": "code",
   "execution_count": null,
   "metadata": {},
   "outputs": [],
   "source": [
    "## 추후 전체 set에 대한 mape를 구하기 위해서 split을 해줌.\n",
    "\n",
    "predict_data = test_data[test_data.취급액 == -1].reset_index(drop=True)\n",
    "train_set = test_data[test_data['취급액'] != -1]\n",
    "\n",
    "X = train_set.drop([\"취급액\"], axis = 1)\n",
    "y = train_set[\"취급액\"]\n",
    "\n",
    "grp_idx = train_set['상품군'].map(prod_group_dct)\n",
    "X_train, X_test, y_train, y_test = train_test_split(X, y, random_state=0, stratify = grp_idx)\n",
    "\n",
    "X_train = X_train.drop(all_del_colmns,axis=1)\n",
    "X_test = X_test.drop(all_del_colmns,axis=1)\n",
    "\n",
    "scaler = StandardScaler()\n",
    "\n",
    "X_train_scaled = pd.DataFrame(scaler.fit_transform(X_train))\n",
    "X_test_scaled = pd.DataFrame(scaler.transform(X_test))"
   ]
  },
  {
   "cell_type": "code",
   "execution_count": null,
   "metadata": {},
   "outputs": [],
   "source": [
    "lgbm_all = LGBMRegressor(learning_rate=0.1641933472071217, max_depth=15,\n",
    "              min_child_samples=57, min_data_in_leaf=208, min_split_gain=0.001,\n",
    "              n_estimators=1300, num_leaves=118, objective='gamma',\n",
    "              random_state=0, sub_sample=0.7)\n",
    "\n",
    "pred_all_lgbm = lgbm_all.fit(X_train_scaled, y_train).predict(X_test_scaled)"
   ]
  },
  {
   "cell_type": "code",
   "execution_count": null,
   "metadata": {},
   "outputs": [],
   "source": [
    "mape(y_test,pred_all_lgbm)"
   ]
  },
  {
   "cell_type": "code",
   "execution_count": null,
   "metadata": {},
   "outputs": [],
   "source": [
    "xgb_all = XGBRegressor(base_score=None, booster=None, colsample_bylevel=None,\n",
    "             colsample_bynode=None, colsample_bytree=0.4876619535400296,\n",
    "             eta=0.05669375986990678, gamma=0.007357900012337478, gpu_id=None,\n",
    "             importance_type='gain', interaction_constraints=None,\n",
    "             learning_rate=None, max_delta_step=None, max_depth=7,\n",
    "             max_leaves=96, min_child_weight=136.74405777597332, \n",
    "             monotone_constraints=None, n_estimators=1963, n_jobs=None,\n",
    "             num_parallel_tree=None, objective='reg:tweedie', random_state=0,\n",
    "             reg_alpha=None, reg_lambda=None, scale_pos_weight=None,\n",
    "             subsample=0.7165695744381803, tree_method=None,\n",
    "             validate_parameters=None, verbosity=None)\n",
    "pred_all_xgb = xgb_all.fit(X_train_scaled, y_train).predict(X_test_scaled)"
   ]
  },
  {
   "cell_type": "code",
   "execution_count": null,
   "metadata": {},
   "outputs": [],
   "source": [
    "mape(y_test,pred_all_xgb)"
   ]
  },
  {
   "cell_type": "code",
   "execution_count": null,
   "metadata": {},
   "outputs": [],
   "source": [
    "pred_cat = CatBoost.fit(X_train_cat, y_train_cat).predict(X_test_cat)"
   ]
  },
  {
   "cell_type": "code",
   "execution_count": null,
   "metadata": {},
   "outputs": [],
   "source": [
    "mape(y_test,pred_cat)"
   ]
  },
  {
   "cell_type": "code",
   "execution_count": null,
   "metadata": {},
   "outputs": [],
   "source": [
    "### LGBM\n",
    "mape_list = []\n",
    "for pred, true in zip(predictions_lgb, trues):\n",
    "    mape_res = mape(true, pred)\n",
    "    print(f\"mape: {mape_res}\" )\n",
    "    mape_list.append(mape_res)"
   ]
  },
  {
   "cell_type": "code",
   "execution_count": null,
   "metadata": {},
   "outputs": [],
   "source": [
    "### XGB \n",
    "mape_list = []\n",
    "for pred, true in zip(predictions_xgb, trues):\n",
    "    mape_res = mape(true, pred)\n",
    "    print(f\"mape: {mape_res}\" )\n",
    "    mape_list.append(mape_res)"
   ]
  },
  {
   "cell_type": "code",
   "execution_count": null,
   "metadata": {},
   "outputs": [],
   "source": [
    "### CAT\n",
    "mape_list = []\n",
    "for pred, true in zip(predictions_cat, trues):\n",
    "    mape_res = mape(true, pred)\n",
    "    print(f\"mape: {mape_res}\" )\n",
    "    mape_list.append(mape_res)"
   ]
  },
  {
   "cell_type": "code",
   "execution_count": null,
   "metadata": {},
   "outputs": [],
   "source": [
    "mape(y_test_clothes, (pred1_lgb*0.7+pred1_xgb*0.15+pred1_cat*0.15))"
   ]
  },
  {
   "cell_type": "markdown",
   "metadata": {},
   "source": [
    "## **Ensemble 1**"
   ]
  },
  {
   "cell_type": "markdown",
   "metadata": {},
   "source": [
    "#### Model 1"
   ]
  },
  {
   "cell_type": "code",
   "execution_count": null,
   "metadata": {},
   "outputs": [],
   "source": [
    "pred1 = pred1_lgb*0.70 + pred1_xgb*0.30\n",
    "pred2 = pred2_lgb*0.70 + pred2_xgb*0.30\n",
    "pred3 = (pred3_lgb*pred3_xgb)**(1/2)\n",
    "pred4 = pred4_lgb*0.65 + pred4_xgb*0.35\n",
    "pred5 = pred5_lgb*0.75 + pred5_xgb*0.25\n",
    "pred6 = pred6_lgb*0.85 + pred6_xgb*0.15\n",
    "pred7 = (pred7_lgb*pred7_xgb)**(1/2)\n",
    "pred8 = pred8_lgb*0.90 + pred8_xgb*0.10\n",
    "pred9 = (pred9_lgb*pred9_xgb)**(1/2)\n",
    "pred10 = pred10_lgb*0.95 + pred10_xgb*0.05\n",
    "pred11 = (pred11_lgb*pred11_xgb)**(1/2)"
   ]
  },
  {
   "cell_type": "markdown",
   "metadata": {},
   "source": [
    "pred1 : 21.15152335098328  \n",
    "pred2 : 25.516611998657673  \n",
    "pred3 : 26.872051596337464  \n",
    "pred4 : 15.58536517238385  \n",
    "pred5 : 18.13144847247924  \n",
    "pred6 : 40.28634995228615  \n",
    "pred7 : 30.777249491483833  \n",
    "pred8 : 19.49473606475452  \n",
    "pred9 : 36.547539947626134  \n",
    "pred10 : 41.59788324834989  \n",
    "pred11 : 23.410398012582057  "
   ]
  },
  {
   "cell_type": "code",
   "execution_count": null,
   "metadata": {},
   "outputs": [],
   "source": [
    "predictions = [pred1, pred2, pred3, pred4, pred5, pred6, pred7, pred8, pred9, pred10, pred11] # selection한 결과물\n",
    "y_pred = np.zeros_like(y_test)"
   ]
  },
  {
   "cell_type": "code",
   "execution_count": null,
   "metadata": {},
   "outputs": [],
   "source": [
    "# y_test format으로 다시 넣어주기\n",
    "for i in range(len(prod_group)):\n",
    "      y_pred[X_test[\"상품군\"] == prod_group[i]] = predictions[i]"
   ]
  },
  {
   "cell_type": "code",
   "execution_count": null,
   "metadata": {},
   "outputs": [],
   "source": [
    "# 상품군별 앙상블 하기 전\n",
    "mape(y_test, (y_pred_lgbm*0.80 + y_pred_xgb*0.20))"
   ]
  },
  {
   "cell_type": "code",
   "execution_count": null,
   "metadata": {},
   "outputs": [],
   "source": [
    "# 상품군별 앙상블 한 후\n",
    "mape(y_test, y_pred)"
   ]
  },
  {
   "cell_type": "markdown",
   "metadata": {},
   "source": [
    "#### Model 2"
   ]
  },
  {
   "cell_type": "code",
   "execution_count": null,
   "metadata": {},
   "outputs": [],
   "source": [
    "mape(y_test,(pred_all_lgbm*0.1 +pred_all_xgb*0.8+ pred_cat*0.1))"
   ]
  },
  {
   "cell_type": "code",
   "execution_count": null,
   "metadata": {},
   "outputs": [],
   "source": [
    "mape(y_test, (y_pred*0.75 + (pred_all_lgbm*0.1 +pred_all_xgb*0.8+ pred_cat*0.1)*0.25))"
   ]
  },
  {
   "cell_type": "markdown",
   "metadata": {},
   "source": [
    "## **Ensemble2**"
   ]
  },
  {
   "cell_type": "code",
   "execution_count": null,
   "metadata": {},
   "outputs": [],
   "source": [
    "with open('../data/2020-09-27_3105.pickle', 'rb') as f:\n",
    "    yujin = pickle.load(f)"
   ]
  },
  {
   "cell_type": "code",
   "execution_count": null,
   "metadata": {},
   "outputs": [],
   "source": [
    "mape(y_test,yujin)"
   ]
  },
  {
   "cell_type": "code",
   "execution_count": null,
   "metadata": {},
   "outputs": [],
   "source": [
    "mape(y_test, (y_pred*0.6 + (pred_all_lgbm*0.1 +pred_all_xgb*0.8+ pred_cat*0.1)*0.1 + yujin*0.3))"
   ]
  },
  {
   "cell_type": "code",
   "execution_count": null,
   "metadata": {},
   "outputs": [],
   "source": []
  },
  {
   "cell_type": "code",
   "execution_count": null,
   "metadata": {},
   "outputs": [],
   "source": []
  },
  {
   "cell_type": "code",
   "execution_count": null,
   "metadata": {},
   "outputs": [],
   "source": []
  },
  {
   "cell_type": "markdown",
   "metadata": {},
   "source": [
    "# **테스트 데이터 예측!!**"
   ]
  },
  {
   "cell_type": "code",
   "execution_count": null,
   "metadata": {},
   "outputs": [],
   "source": [
    "# 라벨 인코딩\n",
    "test_data = performance_data.drop(['방송일시','판매량', 'holiday', '대비', 'date', 'mean_rating', \n",
    "                                   '배당수익률(%)', '주가자산비율', '고가지수', '저가지수', '거래량(천주)', '거래대금(백만원)','상장시가총액(백만원)'],axis=1)\n",
    "\n",
    "test_data_cat = performance_data.drop(['방송일시','판매량', 'holiday', '대비', 'date', 'mean_rating', \n",
    "                                   '배당수익률(%)', '주가자산비율', '고가지수', '저가지수', '거래량(천주)', '거래대금(백만원)','상장시가총액(백만원)'],axis=1)\n",
    "\n",
    "# test_data['상품코드'] = test_data['상품코드'].map(int)\n",
    "for feat in ['상품명','상품코드','마더코드','prime_time','중분류','요일','season','남여','muil','브랜드','season_prod','소분류']:\n",
    "    lbe = LabelEncoder()\n",
    "    test_data[feat] = lbe.fit_transform(test_data[feat].astype(str).values)\n",
    "\n",
    "\n"
   ]
  },
  {
   "cell_type": "code",
   "execution_count": null,
   "metadata": {},
   "outputs": [],
   "source": [
    "prod_group = test_data[\"상품군\"].unique()\n",
    "prod_group_dct = {v:k for k, v in enumerate(prod_group)}"
   ]
  },
  {
   "cell_type": "code",
   "execution_count": null,
   "metadata": {},
   "outputs": [],
   "source": [
    "predict_data = test_data[test_data.취급액 == -1].reset_index(drop=True)\n",
    "train_set = test_data[test_data['취급액'] != -1]\n",
    "\n",
    "X_train = train_set.drop([\"취급액\"], axis = 1)\n",
    "y_train = train_set[\"취급액\"]\n",
    "X_test = predict_data.drop([\"취급액\"], axis = 1)\n",
    "y_test = predict_data[\"취급액\"]\n",
    "\n",
    "grp_idx = train_set['상품군'].map(prod_group_dct)"
   ]
  },
  {
   "cell_type": "markdown",
   "metadata": {},
   "source": [
    "### **Model 1**"
   ]
  },
  {
   "cell_type": "code",
   "execution_count": null,
   "metadata": {},
   "outputs": [],
   "source": [
    "def train_test_grp(X_train, X_test, y_train, y_test, prod_group, grp_index):\n",
    "    new_X_train = X_train[X_train[\"상품군\"] == prod_group[grp_index]].drop(\"상품군\", axis=1)\n",
    "    new_X_test = X_test[X_test[\"상품군\"] == prod_group[grp_index]].drop(\"상품군\", axis=1)\n",
    "    new_y_train = y_train[X_train[\"상품군\"] == prod_group[grp_index]]\n",
    "    new_y_test = y_test[X_test[\"상품군\"] == prod_group[grp_index]]\n",
    "    return new_X_train, new_X_test, new_y_train, new_y_test"
   ]
  },
  {
   "cell_type": "code",
   "execution_count": null,
   "metadata": {},
   "outputs": [],
   "source": [
    "X_train_clothes, X_test_clothes, y_train_clothes, y_test_clothes = train_test_grp(X_train, X_test, y_train, y_test, prod_group, 0)\n",
    "X_train_inner, X_test_inner, y_train_inner, y_test_inner = train_test_grp(X_train, X_test, y_train, y_test, prod_group, 1)\n",
    "X_train_kitchen, X_test_kitchen, y_train_kitchen, y_test_kitchen = train_test_grp(X_train, X_test, y_train, y_test, prod_group, 2)\n",
    "X_train_food, X_test_food, y_train_food, y_test_food = train_test_grp(X_train, X_test, y_train, y_test, prod_group, 3)\n",
    "X_train_beauty, X_test_beauty, y_train_beauty, y_test_beauty = train_test_grp(X_train, X_test, y_train, y_test, prod_group, 4)\n",
    "X_train_elec, X_test_elec, y_train_elec, y_test_elec = train_test_grp(X_train, X_test, y_train, y_test, prod_group, 5)\n",
    "X_train_goods, X_test_goods, y_train_goods, y_test_goods = train_test_grp(X_train, X_test, y_train, y_test, prod_group, 6)\n",
    "X_train_health, X_test_health, y_train_health, y_test_health = train_test_grp(X_train, X_test, y_train, y_test, prod_group, 7)\n",
    "X_train_etc, X_test_etc, y_train_etc, y_test_etc = train_test_grp(X_train, X_test, y_train, y_test, prod_group, 8)\n",
    "X_train_furn, X_test_furn, y_train_furn, y_test_furn = train_test_grp(X_train, X_test, y_train, y_test, prod_group, 9)\n",
    "X_train_bed, X_test_bed, y_train_bed, y_test_bed = train_test_grp(X_train, X_test, y_train, y_test, prod_group, 10)"
   ]
  },
  {
   "cell_type": "code",
   "execution_count": null,
   "metadata": {},
   "outputs": [],
   "source": [
    "idx_clothes = X_test_clothes.index\n",
    "idx_inner = X_test_inner.index\n",
    "idx_kitchen = X_test_kitchen.index\n",
    "idx_food = X_test_food.index\n",
    "idx_beauty = X_test_beauty.index\n",
    "idx_elec = X_test_elec.index\n",
    "idx_goods = X_test_goods.index\n",
    "idx_health = X_test_health.index\n",
    "idx_etc = X_test_etc.index\n",
    "idx_furn = X_test_furn.index\n",
    "idx_bed = X_test_bed.index"
   ]
  },
  {
   "cell_type": "code",
   "execution_count": null,
   "metadata": {},
   "outputs": [],
   "source": [
    "X_train_clothes = X_train_clothes.drop(clothes_del_columns,axis=1)\n",
    "X_train_inner = X_train_inner.drop(inner_del_columns,axis=1)\n",
    "X_train_kitchen = X_train_kitchen.drop(kitchen_del_columns,axis=1)\n",
    "X_train_food = X_train_food.drop(food_del_columns,axis=1)\n",
    "X_train_beauty = X_train_beauty.drop(beauty_del_columns,axis=1)\n",
    "X_train_elec = X_train_elec.drop(elec_del_columns,axis=1)\n",
    "X_train_goods = X_train_goods.drop(goods_del_columns,axis=1)\n",
    "X_train_health = X_train_health.drop(health_del_columns,axis=1)\n",
    "X_train_etc = X_train_etc.drop(etc_del_columns,axis=1)\n",
    "X_train_furn = X_train_furn.drop(furn_del_columns,axis=1)\n",
    "X_train_bed = X_train_bed.drop(bed_del_columns,axis=1)\n",
    "\n",
    "\n",
    "X_test_clothes = X_test_clothes.drop(clothes_del_columns,axis=1)\n",
    "X_test_inner = X_test_inner.drop(inner_del_columns,axis=1)\n",
    "X_test_kitchen = X_test_kitchen.drop(kitchen_del_columns,axis=1)\n",
    "X_test_food = X_test_food.drop(food_del_columns,axis=1)\n",
    "X_test_beauty = X_test_beauty.drop(beauty_del_columns,axis=1)\n",
    "X_test_elec = X_test_elec.drop(elec_del_columns,axis=1)\n",
    "X_test_goods = X_test_goods.drop(goods_del_columns,axis=1)\n",
    "X_test_health = X_test_health.drop(health_del_columns,axis=1)\n",
    "X_test_etc = X_test_etc.drop(etc_del_columns,axis=1)\n",
    "X_test_furn = X_test_furn.drop(furn_del_columns,axis=1)\n",
    "X_test_bed = X_test_bed.drop(bed_del_columns,axis=1)"
   ]
  },
  {
   "cell_type": "code",
   "execution_count": null,
   "metadata": {},
   "outputs": [],
   "source": [
    "# scaling\n",
    "from sklearn.preprocessing import StandardScaler\n",
    "\n",
    "scaler = StandardScaler()\n",
    "\n",
    "X_train_clothes_scaled = pd.DataFrame(scaler.fit_transform(X_train_clothes))\n",
    "X_test_clothes_scaled = pd.DataFrame(scaler.transform(X_test_clothes))\n",
    "X_train_inner_scaled = pd.DataFrame(scaler.fit_transform(X_train_inner))\n",
    "X_test_inner_scaled = pd.DataFrame(scaler.transform(X_test_inner))\n",
    "X_train_kitchen_scaled = pd.DataFrame(scaler.fit_transform(X_train_kitchen))\n",
    "X_test_kitchen_scaled = pd.DataFrame(scaler.transform(X_test_kitchen))\n",
    "X_train_food_scaled = pd.DataFrame(scaler.fit_transform(X_train_food))\n",
    "X_test_food_scaled = pd.DataFrame(scaler.transform(X_test_food))\n",
    "X_train_beauty_scaled = pd.DataFrame(scaler.fit_transform(X_train_beauty))\n",
    "X_test_beauty_scaled = pd.DataFrame(scaler.transform(X_test_beauty))\n",
    "X_train_elec_scaled = pd.DataFrame(scaler.fit_transform(X_train_elec))\n",
    "X_test_elec_scaled = pd.DataFrame(scaler.transform(X_test_elec))\n",
    "X_train_goods_scaled = pd.DataFrame(scaler.fit_transform(X_train_goods))\n",
    "X_test_goods_scaled = pd.DataFrame(scaler.transform(X_test_goods))\n",
    "X_train_health_scaled = pd.DataFrame(scaler.fit_transform(X_train_health))\n",
    "X_test_health_scaled = pd.DataFrame(scaler.transform(X_test_health))\n",
    "X_train_etc_scaled = pd.DataFrame(scaler.fit_transform(X_train_etc))\n",
    "X_test_etc_scaled = pd.DataFrame(scaler.transform(X_test_etc))\n",
    "X_train_furn_scaled = pd.DataFrame(scaler.fit_transform(X_train_furn))\n",
    "X_test_furn_scaled = pd.DataFrame(scaler.transform(X_test_furn))\n",
    "X_train_bed_scaled = pd.DataFrame(scaler.fit_transform(X_train_bed))\n",
    "X_test_bed_scaled = pd.DataFrame(scaler.transform(X_test_bed))"
   ]
  },
  {
   "cell_type": "code",
   "execution_count": null,
   "metadata": {},
   "outputs": [],
   "source": [
    "# model fitting\n",
    "\n",
    "pred1_lgb_test = lgbm1.fit(X_train_clothes_scaled, y_train_clothes).predict(X_test_clothes_scaled)\n",
    "pred2_lgb_test = lgbm2.fit(X_train_inner_scaled, y_train_inner).predict(X_test_inner_scaled)\n",
    "pred3_lgb_test = lgbm3.fit(X_train_kitchen_scaled, y_train_kitchen).predict(X_test_kitchen_scaled)\n",
    "pred4_lgb_test = lgbm4.fit(X_train_food_scaled, y_train_food).predict(X_test_food_scaled)\n",
    "pred5_lgb_test = lgbm5.fit(X_train_beauty_scaled, y_train_beauty).predict(X_test_beauty_scaled)\n",
    "pred6_lgb_test = lgbm6.fit(X_train_elec_scaled, y_train_elec).predict(X_test_elec_scaled)\n",
    "pred7_lgb_test = lgbm7.fit(X_train_goods_scaled, y_train_goods).predict(X_test_goods_scaled)\n",
    "pred8_lgb_test = lgbm8.fit(X_train_health_scaled, y_train_health).predict(X_test_health_scaled)\n",
    "pred9_lgb_test = lgbm9.fit(X_train_etc_scaled, y_train_etc).predict(X_test_etc_scaled)\n",
    "pred10_lgb_test = lgbm10.fit(X_train_furn_scaled, y_train_furn).predict(X_test_furn_scaled)\n",
    "pred11_lgb_test = lgbm11.fit(X_train_bed_scaled, y_train_bed).predict(X_test_bed_scaled)"
   ]
  },
  {
   "cell_type": "code",
   "execution_count": null,
   "metadata": {},
   "outputs": [],
   "source": [
    "# model fitting\n",
    "\n",
    "pred1_xgb_test = xgb1.fit(X_train_clothes_scaled, y_train_clothes).predict(X_test_clothes_scaled)\n",
    "pred2_xgb_test = xgb2.fit(X_train_inner_scaled, y_train_inner).predict(X_test_inner_scaled)\n",
    "pred3_xgb_test = xgb3.fit(X_train_kitchen_scaled, y_train_kitchen).predict(X_test_kitchen_scaled)\n",
    "pred4_xgb_test = xgb4.fit(X_train_food_scaled, y_train_food).predict(X_test_food_scaled)\n",
    "pred5_xgb_test = xgb5.fit(X_train_beauty_scaled, y_train_beauty).predict(X_test_beauty_scaled)\n",
    "pred6_xgb_test = xgb6.fit(X_train_elec_scaled, y_train_elec).predict(X_test_elec_scaled)\n",
    "pred7_xgb_test = xgb7.fit(X_train_goods_scaled, y_train_goods).predict(X_test_goods_scaled)\n",
    "pred8_xgb_test = xgb8.fit(X_train_health_scaled, y_train_health).predict(X_test_health_scaled)\n",
    "pred9_xgb_test = xgb9.fit(X_train_etc_scaled, y_train_etc).predict(X_test_etc_scaled)\n",
    "pred10_xgb_test = xgb10.fit(X_train_furn_scaled, y_train_furn).predict(X_test_furn_scaled)\n",
    "pred11_xgb_test = xgb11.fit(X_train_bed_scaled, y_train_bed).predict(X_test_bed_scaled)"
   ]
  },
  {
   "cell_type": "code",
   "execution_count": null,
   "metadata": {},
   "outputs": [],
   "source": [
    "pred1_cat_test = CatBoost_clothes.fit(X_train_clothes_cat, y_train_clothes_cat).predict(X_test_clothes_cat)\n",
    "pred2_cat_test = CatBoost_inner.fit(X_train_inner_cat, y_train_inner_cat).predict(X_test_inner_cat)\n",
    "pred3_cat_test = CatBoost_kitchen.fit(X_train_kitchen_cat, y_train_kitchen_cat).predict(X_test_kitchen_cat)\n",
    "pred4_cat_test = CatBoost_food.fit(X_train_food_cat, y_train_food_cat).predict(X_test_food_cat)\n",
    "pred5_cat_test = CatBoost_beauty.fit(X_train_beauty_cat, y_train_beauty_cat).predict(X_test_beauty_cat)\n",
    "pred6_cat_test = CatBoost_elec.fit(X_train_elec_cat, y_train_elec_cat).predict(X_test_elec_cat)\n",
    "pred7_cat_test = CatBoost_goods.fit(X_train_goods_cat, y_train_goods_cat).predict(X_test_goods_cat)\n",
    "pred8_cat_test = CatBoost_health.fit(X_train_health_cat, y_train_health_cat).predict(X_test_health_cat)\n",
    "pred9_cat_test = CatBoost_etc.fit(X_train_etc_cat, y_train_etc_cat).predict(X_test_etc_cat)\n",
    "pred10_cat_test = CatBoost_furn.fit(X_train_furn_cat, y_train_furn_cat).predict(X_test_furn_cat)\n",
    "pred11_cat_test = CatBoost_bed.fit(X_train_bed_cat, y_train_bed_cat).predict(X_test_bed_cat)\n"
   ]
  },
  {
   "cell_type": "code",
   "execution_count": null,
   "metadata": {},
   "outputs": [],
   "source": [
    "predictions_lgb = [pred1_lgb_test, pred2_lgb_test, pred3_lgb_test, pred4_lgb_test, pred5_lgb_test, pred6_lgb_test, pred7_lgb_test, pred8_lgb_test, pred9_lgb_test, pred10_lgb_test, pred11_lgb_test] # selection한 결과물\n",
    "predictions_xgb = [pred1_xgb_test, pred2_xgb_test, pred3_xgb_test, pred4_xgb_test, pred5_xgb_test, pred6_xgb_test, pred7_xgb_test, pred8_xgb_test, pred9_xgb_test, pred10_xgb_test, pred11_xgb_test] \n",
    "predictions_cat = [pred1_cat_test, pred2_cat_test, pred3_cat_test, pred4_cat_test, pred5_cat_test, pred6_cat_test, pred7_cat_test, pred8_cat_test, pred9_cat_test, pred10_cat_test, pred11_cat_test]\n"
   ]
  },
  {
   "cell_type": "code",
   "execution_count": null,
   "metadata": {},
   "outputs": [],
   "source": [
    "pred1 = pred1_lgb_test*0.70 + pred1_xgb_test*0.30 #+ pred1_cat_test*0.0\n",
    "pred2 = pred2_lgb_test*0.70 + pred2_xgb_test*0.30 #+ pred2_cat_test*0.0\n",
    "pred3 = (pred3_lgb_test*pred3_xgb_test)**(1/2) #+ pred3_cat_test*0.0\n",
    "pred4 = pred4_lgb_test*0.65 + pred4_xgb_test*0.35# + pred4_cat_test*0.0\n",
    "pred5 = pred5_lgb_test*0.75 + pred5_xgb_test*0.25 #+ pred5_cat_test*0.0\n",
    "pred6 = pred6_lgb_test*0.85 + pred6_xgb_test*0.15 #+ pred6_cat_test*0.0\n",
    "pred7 = (pred7_lgb_test*pred7_xgb_test)**(1/2) #+ pred7_cat_test*0.0\n",
    "pred8 = pred8_lgb_test*0.90 + pred8_xgb_test*0.10 #+ pred8_cat_test*0.0\n",
    "pred9 = (pred9_lgb_test*pred9_xgb_test)**(1/2) #+ pred9_cat_test*0.0\n",
    "pred10 = pred10_lgb_test*0.95 + pred10_xgb_test*0.05 #+ pred10_cat_test*0.0\n",
    "pred11 = (pred11_lgb_test*pred11_xgb_test)**(1/2) #+ pred11_cat_test*0.0"
   ]
  },
  {
   "cell_type": "code",
   "execution_count": null,
   "metadata": {},
   "outputs": [],
   "source": [
    "predict_data_ = predict_data"
   ]
  },
  {
   "cell_type": "code",
   "execution_count": null,
   "metadata": {},
   "outputs": [],
   "source": [
    "predictions = [pred1, pred2, pred3, pred4, pred5, pred6, pred7, pred8, pred9, pred10, pred11] # selection한 결과물\n",
    "y_pred_model1 = np.zeros_like(y_test)"
   ]
  },
  {
   "cell_type": "code",
   "execution_count": null,
   "metadata": {},
   "outputs": [],
   "source": [
    "# y_test format으로 다시 넣어주기\n",
    "for i in range(len(prod_group)):\n",
    "      y_pred_model1[predict_data[\"상품군\"] == prod_group[i]] = predictions[i]"
   ]
  },
  {
   "cell_type": "code",
   "execution_count": null,
   "metadata": {},
   "outputs": [],
   "source": [
    "y_pred_model1"
   ]
  },
  {
   "cell_type": "markdown",
   "metadata": {},
   "source": [
    "### **Model 2**"
   ]
  },
  {
   "cell_type": "code",
   "execution_count": null,
   "metadata": {},
   "outputs": [],
   "source": [
    "# 라벨 인코딩\n",
    "test_data = performance_data.drop(['방송일시','판매량', 'holiday', '대비', 'date', 'mean_rating', \n",
    "                                   '배당수익률(%)', '주가자산비율', '고가지수', '저가지수', '거래량(천주)', '거래대금(백만원)','상장시가총액(백만원)'],axis=1)\n",
    "\n",
    "# test_data['상품코드'] = test_data['상품코드'].map(int)\n",
    "for feat in ['상품명','상품코드','상품군','마더코드','prime_time','중분류','요일','season','남여','muil','브랜드','season_prod','소분류']:\n",
    "    lbe = LabelEncoder()\n",
    "    test_data[feat] = lbe.fit_transform(test_data[feat].astype(str).values)\n",
    "\n"
   ]
  },
  {
   "cell_type": "code",
   "execution_count": null,
   "metadata": {},
   "outputs": [],
   "source": [
    "original_colnames = list(test_data.drop('취급액',axis=1).columns)\n",
    "new_colnames = []\n",
    "for i in range(len(test_data.drop('취급액',axis=1).columns)):\n",
    "    new_colnames.append(i)\n",
    "colnames_dic2 = {}\n",
    "for i in range(len(original_colnames)):\n",
    "    colnames_dic2[str(new_colnames[i])] = original_colnames[i]\n",
    "    "
   ]
  },
  {
   "cell_type": "code",
   "execution_count": null,
   "metadata": {},
   "outputs": [],
   "source": [
    "all_del_colmns = [33,10,37,35,16,18,9,14,15,21,24,17]\n",
    "all_del_colmns = [colnames_dic2[str(i)] for i in all_del_colmns]"
   ]
  },
  {
   "cell_type": "code",
   "execution_count": null,
   "metadata": {},
   "outputs": [],
   "source": [
    "prod_group = test_data[\"상품군\"].unique()\n",
    "prod_group_dct = {v:k for k, v in enumerate(prod_group)}"
   ]
  },
  {
   "cell_type": "code",
   "execution_count": null,
   "metadata": {},
   "outputs": [],
   "source": [
    "predict_data = test_data[test_data.취급액 == -1].reset_index(drop=True)\n",
    "train_set = test_data[test_data['취급액'] != -1]\n",
    "\n",
    "X = train_set.drop([\"취급액\"], axis = 1)\n",
    "y_train = train_set[\"취급액\"]\n",
    "y_test = predict_data[\"취급액\"]\n",
    "grp_idx = train_set['상품군'].map(prod_group_dct)\n",
    "\n",
    "predict_data = predict_data.drop('취급액',axis=1)\n",
    "\n",
    "X_train = X.drop(all_del_colmns,axis=1)\n",
    "X_test = predict_data.drop(all_del_colmns,axis=1)\n",
    "\n",
    "scaler = StandardScaler()\n",
    "\n",
    "X_train_scaled = pd.DataFrame(scaler.fit_transform(X_train))\n",
    "X_test_scaled = pd.DataFrame(scaler.transform(X_test))"
   ]
  },
  {
   "cell_type": "code",
   "execution_count": null,
   "metadata": {},
   "outputs": [],
   "source": [
    "lgbm_all = LGBMRegressor(learning_rate=0.1641933472071217, max_depth=15,\n",
    "              min_child_samples=57, min_data_in_leaf=208, min_split_gain=0.001,\n",
    "              n_estimators=1300, num_leaves=118, objective='gamma',\n",
    "              random_state=0, sub_sample=0.7)\n",
    "\n",
    "pred_all_lgbm = lgbm_all.fit(X_train_scaled, y_train).predict(X_test_scaled)"
   ]
  },
  {
   "cell_type": "code",
   "execution_count": null,
   "metadata": {},
   "outputs": [],
   "source": [
    "xgb_all = XGBRegressor(base_score=None, booster=None, colsample_bylevel=None,\n",
    "             colsample_bynode=None, colsample_bytree=0.4876619535400296,\n",
    "             eta=0.05669375986990678, gamma=0.007357900012337478, gpu_id=None,\n",
    "             importance_type='gain', interaction_constraints=None,\n",
    "             learning_rate=None, max_delta_step=None, max_depth=7,\n",
    "             max_leaves=96, min_child_weight=136.74405777597332, \n",
    "             monotone_constraints=None, n_estimators=1963, n_jobs=None,\n",
    "             num_parallel_tree=None, objective='reg:tweedie', random_state=0,\n",
    "             reg_alpha=None, reg_lambda=None, scale_pos_weight=None,\n",
    "             subsample=0.7165695744381803, tree_method=None,\n",
    "             validate_parameters=None, verbosity=None)\n",
    "pred_all_xgb = xgb_all.fit(X_train_scaled, y_train).predict(X_test_scaled)"
   ]
  },
  {
   "cell_type": "code",
   "execution_count": null,
   "metadata": {},
   "outputs": [],
   "source": [
    "CatBoost = CatBoostRegressor(n_estimators = 3000,\n",
    "                             loss_function = 'MAE',\n",
    "                             eval_metric = 'MAPE',\n",
    "                             depth = 7,\n",
    "                             cat_features = ['상품군','상품코드','마더코드','상품명','소분류','prime_time','중분류','요일','season','남여','muil','season_prod','season','브랜드'],                             \n",
    "                             verbose=0,\n",
    "                             random_seed = 0,\n",
    "                             task_type='CPU')\n",
    "pred_all_cat = CatBoost.fit(train_set_cat.drop('취급액',axis=1), train_set_cat['취급액']).predict(predict_data_cat.drop('취급액',axis=1))"
   ]
  },
  {
   "cell_type": "code",
   "execution_count": null,
   "metadata": {},
   "outputs": [],
   "source": [
    "y_pred_model2 = (pred_all_lgbm*0.1 +pred_all_xgb*0.8+ pred_all_cat*0.1)"
   ]
  },
  {
   "cell_type": "markdown",
   "metadata": {},
   "source": [
    "### **Model 3**"
   ]
  },
  {
   "cell_type": "code",
   "execution_count": null,
   "metadata": {},
   "outputs": [],
   "source": [
    "with open('../data/2020-09-27_3105.pickle', 'rb') as f:\n",
    "    y_pred_model3 = pickle.load(f)"
   ]
  },
  {
   "cell_type": "code",
   "execution_count": null,
   "metadata": {},
   "outputs": [],
   "source": []
  },
  {
   "cell_type": "markdown",
   "metadata": {},
   "source": [
    "### **Ensemble**"
   ]
  },
  {
   "cell_type": "code",
   "execution_count": null,
   "metadata": {},
   "outputs": [],
   "source": [
    "# 최종 submission Y\n",
    "final_pred = (y_pred_model1*0.6 + y_pred_model2*0.1 + y_pred_model3*0.3)"
   ]
  },
  {
   "cell_type": "markdown",
   "metadata": {},
   "source": [
    "## **제출**"
   ]
  },
  {
   "cell_type": "code",
   "execution_count": null,
   "metadata": {},
   "outputs": [],
   "source": [
    "test_data = pd.read_excel('../2020빅콘테스트 문제데이터(데이터분석분야-챔피언리그)_update_200818/02_평가데이터/2020 빅콘테스트 데이터분석분야-챔피언리그_2020년 6월 판매실적예측데이터(평가데이터).xlsx',header=1)"
   ]
  },
  {
   "cell_type": "code",
   "execution_count": null,
   "metadata": {},
   "outputs": [],
   "source": [
    "test_data = test_data.drop('취급액',axis=1)"
   ]
  },
  {
   "cell_type": "code",
   "execution_count": null,
   "metadata": {},
   "outputs": [],
   "source": [
    "submission_data = performance_data[performance_data.취급액==-1].reset_index(drop=True)\n",
    "submission_data['취급액'] = final_pred\n",
    "submission_data = submission_data[['방송일시','마더코드','상품코드','상품명','취급액']]\n",
    "submission_data['마더코드'] = submission_data['마더코드'].map(int)\n",
    "submission_data['상품코드'] = submission_data['상품코드'].map(int)\n",
    "submission_data.info()"
   ]
  },
  {
   "cell_type": "code",
   "execution_count": null,
   "metadata": {},
   "outputs": [],
   "source": [
    "final_pred = pd.merge(test_data,submission_data,on=['방송일시','마더코드','상품코드','상품명'],how='left')\n",
    "final_pred"
   ]
  },
  {
   "cell_type": "code",
   "execution_count": null,
   "metadata": {},
   "outputs": [],
   "source": [
    "final_pred.to_excel('../submission/평가데이터답안.xlsx',index=False)"
   ]
  },
  {
   "cell_type": "markdown",
   "metadata": {},
   "source": [
    "# **편성표 작업시에만!**"
   ]
  },
  {
   "cell_type": "code",
   "execution_count": null,
   "metadata": {},
   "outputs": [],
   "source": [
    "a = performance_data.drop(['판매량', 'holiday', '대비', 'date', 'mean_rating',\n",
    "                                   '배당수익률(%)', '주가자산비율', '고가지수', '저가지수', '거래량(천주)', '거래대금(백만원)','상장시가총액(백만원)'],axis=1)\n",
    "a = a[a.취급액 == -1].reset_index(drop=True)"
   ]
  },
  {
   "cell_type": "code",
   "execution_count": null,
   "metadata": {},
   "outputs": [],
   "source": [
    "a['취급액'] = final_pred['취급액']"
   ]
  },
  {
   "cell_type": "code",
   "execution_count": null,
   "metadata": {},
   "outputs": [],
   "source": [
    "a.to_csv('../data/hungarian.csv')"
   ]
  }
 ],
 "metadata": {
  "kernelspec": {
   "display_name": "Python 3",
   "language": "python",
   "name": "python3"
  },
  "language_info": {
   "codemirror_mode": {
    "name": "ipython",
    "version": 3
   },
   "file_extension": ".py",
   "mimetype": "text/x-python",
   "name": "python",
   "nbconvert_exporter": "python",
   "pygments_lexer": "ipython3",
   "version": "3.8.3"
  }
 },
 "nbformat": 4,
 "nbformat_minor": 4
}
