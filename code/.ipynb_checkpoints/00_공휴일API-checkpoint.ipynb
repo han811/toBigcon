{
 "cells": [
  {
   "cell_type": "code",
   "execution_count": null,
   "metadata": {},
   "outputs": [],
   "source": [
    "import requests\n",
    "import lxml.html\n",
    "import json"
   ]
  },
  {
   "cell_type": "code",
   "execution_count": null,
   "metadata": {},
   "outputs": [],
   "source": [
    "def get_request_query(url, operation, params, serviceKey):\n",
    "    import urllib.parse as urlparse\n",
    "    params = urlparse.urlencode(params)\n",
    "    request_query = url + '/' + operation + '?' + params + '&' + 'serviceKey' + '=' + serviceKey\n",
    "    return request_query"
   ]
  },
  {
   "cell_type": "code",
   "execution_count": null,
   "metadata": {},
   "outputs": [],
   "source": [
    "URL = 'http://apis.data.go.kr/B090041/openapi/service/SpcdeInfoService'\n",
    "OPERATION = 'getRestDeInfo' # 국경일 + 공휴일 정보 조회 오퍼레이션"
   ]
  },
  {
   "cell_type": "code",
   "execution_count": null,
   "metadata": {},
   "outputs": [],
   "source": [
    "month = ['01','02','03','04','05','06','07','08','09','10','11','12']\n",
    "SERVICEKEY = 'mT0kc08MQ2mbUrflqFdcQlqxvf%2Bt8XT%2BwhIDNHCb6gqBbIhcIJ85XQcRqGmlJoqQTqglDR7I4l5LIMylWcxyQA%3D%3D'\n",
    "solYear  = ['2019','2020']  # 연도\n",
    "solMonth = month[0]   # 월\n",
    "PARAMS = {'solYear':solYear, 'solMonth':solMonth}\n"
   ]
  },
  {
   "cell_type": "code",
   "execution_count": null,
   "metadata": {},
   "outputs": [],
   "source": [
    "holiday = {}\n",
    "for i in month:\n",
    "    PARAMS = {'solYear':solYear[0], 'solMonth':i}\n",
    "    request_query = get_request_query(URL, OPERATION, PARAMS, SERVICEKEY)\n",
    "    response = requests.get(url=request_query)\n",
    "    root = lxml.etree.fromstring(response.text.encode('utf-8'))\n",
    "    for j in range(len(root.cssselect('dateName'))):\n",
    "        try:\n",
    "            holiday[root.cssselect('dateName')[j].text+'_2019_'+str(j)]=root.cssselect('locdate')[j].text\n",
    "        except:\n",
    "            pass\n",
    "holiday"
   ]
  },
  {
   "cell_type": "code",
   "execution_count": null,
   "metadata": {},
   "outputs": [],
   "source": [
    "for i in month[:6]:\n",
    "    PARAMS = {'solYear':solYear[1], 'solMonth':i}\n",
    "    request_query = get_request_query(URL, OPERATION, PARAMS, SERVICEKEY)\n",
    "    response = requests.get(url=request_query)\n",
    "    root = lxml.etree.fromstring(response.text.encode('utf-8'))\n",
    "    for j in range(len(root.cssselect('dateName'))):\n",
    "        try:\n",
    "            holiday[root.cssselect('dateName')[j].text+'_2020_'+str(j)]=root.cssselect('locdate')[j].text\n",
    "        except:\n",
    "            pass\n",
    "holiday"
   ]
  },
  {
   "cell_type": "code",
   "execution_count": null,
   "metadata": {},
   "outputs": [],
   "source": [
    "with open('holiday.json', 'w', encoding='utf-8') as make_file:\n",
    "    json.dump(holiday, make_file, indent=\"\\t\")"
   ]
  }
 ],
 "metadata": {
  "kernelspec": {
   "display_name": "Python 3",
   "language": "python",
   "name": "python3"
  },
  "language_info": {
   "codemirror_mode": {
    "name": "ipython",
    "version": 3
   },
   "file_extension": ".py",
   "mimetype": "text/x-python",
   "name": "python",
   "nbconvert_exporter": "python",
   "pygments_lexer": "ipython3",
   "version": "3.8.3"
  }
 },
 "nbformat": 4,
 "nbformat_minor": 4
}
