{
 "cells": [
  {
   "cell_type": "markdown",
   "metadata": {},
   "source": [
    "## 문제출제 목적\n",
    "- 내부요인(상품력, 시즌별 상품변화) + 외부요인(날씨,이슈,시청률) 을 통해 프로그램 매출 실적을 사전에 예측하고 대응"
   ]
  },
  {
   "cell_type": "markdown",
   "metadata": {},
   "source": [
    "### 데이터 설명\n",
    "- 판매가 0원(무형, 보험 상품)은 추정 제외\n",
    "- 매주 토요일 18:00 ~ 18:20은 제외(이미 제외되어 있음)\n",
    "- 편성시간은 10~60분 내외\n",
    "- 편성표는 6:20~2:20(익일)으로 구성(심야시간대 제외)\n",
    "- 취급액 = 판매단가 * 주문량"
   ]
  },
  {
   "cell_type": "code",
   "execution_count": null,
   "metadata": {},
   "outputs": [],
   "source": [
    "import pandas as pd\n",
    "import numpy as np\n",
    "import matplotlib.pyplot as plt\n",
    "import seaborn as sns\n",
    "import datetime \n",
    "import locale                                                           \n",
    "import re\n",
    "\n",
    "from tqdm import tqdm_notebook,tqdm,notebook\n",
    "import matplotlib.pylab as plt\n",
    "import json\n",
    "plt.rc('font', family='Malgun Gothic')\n",
    "plt.rc('axes', unicode_minus=False)\n",
    "locale.setlocale(locale.LC_ALL, 'ko_KR.UTF-8') "
   ]
  },
  {
   "cell_type": "markdown",
   "metadata": {},
   "source": [
    "## **데이터 load 및 간단한 처리**"
   ]
  },
  {
   "cell_type": "code",
   "execution_count": null,
   "metadata": {},
   "outputs": [],
   "source": [
    "file_root = '../2020빅콘테스트 문제데이터(데이터분석분야-챔피언리그)_update_200818/01_제공데이터/'\n",
    "performance_data = pd.read_excel(file_root+'2020 빅콘테스트 데이터분석분야-챔피언리그_2019년 실적데이터_v1_200818.xlsx',header=1)\n",
    "rating_data = pd.read_excel(file_root+'2020 빅콘테스트 데이터분석분야-챔피언리그_시청률 데이터.xlsx',header=1)\n",
    "test_data = pd.read_excel('../2020빅콘테스트 문제데이터(데이터분석분야-챔피언리그)_update_200818/02_평가데이터/2020 빅콘테스트 데이터분석분야-챔피언리그_2020년 6월 판매실적예측데이터(평가데이터).xlsx',header=1)"
   ]
  },
  {
   "cell_type": "code",
   "execution_count": null,
   "metadata": {},
   "outputs": [],
   "source": [
    "day = int(input(\"6월 몇일의 편성표를 만들까요? : \"))"
   ]
  },
  {
   "cell_type": "code",
   "execution_count": null,
   "metadata": {},
   "outputs": [],
   "source": [
    "start = test_data['방송일시'][0]+datetime.timedelta(days=(day-1))\n",
    "start_time = start"
   ]
  },
  {
   "cell_type": "code",
   "execution_count": null,
   "metadata": {},
   "outputs": [],
   "source": [
    "start_time"
   ]
  },
  {
   "cell_type": "code",
   "execution_count": null,
   "metadata": {},
   "outputs": [],
   "source": [
    "time_list = []\n",
    "for idx,j in enumerate([start_time]):\n",
    "    for i in range(60):  # 하루에 나눌수 있는 시간, 20분 단위로 60개 \n",
    "        if i == 0:\n",
    "            #print(i)\n",
    "            #print(j)\n",
    "            time_list.append(j + datetime.timedelta(minutes=20))\n",
    "            \n",
    "        else  :\n",
    "            #print(idx)\n",
    "            time_list.append(time_list[idx*60+i-1]+ datetime.timedelta(minutes=20))\n",
    "# print(time_list)"
   ]
  },
  {
   "cell_type": "code",
   "execution_count": null,
   "metadata": {},
   "outputs": [],
   "source": [
    "time = pd.DataFrame(time_list, columns = ['방송일시'])\n",
    "time['on'] = 0\n",
    "test_data= test_data[['노출(분)', '마더코드', '상품코드', '상품명', '상품군', '판매단가', '취급액']]\n",
    "test_data = test_data.loc[test_data['상품코드'].drop_duplicates().index]\n",
    "test_data = test_data.reset_index().drop(['index'],axis=1)\n",
    "test_data['on']=0\n",
    "test_data = test_data.merge(time,how='left', on = 'on')"
   ]
  },
  {
   "cell_type": "code",
   "execution_count": null,
   "metadata": {},
   "outputs": [],
   "source": [
    "display(performance_data.head())\n",
    "display(rating_data.head())\n",
    "display(test_data.head())"
   ]
  },
  {
   "cell_type": "markdown",
   "metadata": {},
   "source": [
    "### **간단한 전처리**"
   ]
  },
  {
   "cell_type": "code",
   "execution_count": null,
   "metadata": {},
   "outputs": [],
   "source": [
    "# 판매단가가 0, 취급액이 결측치인 데이터는 처음부터 제외하고 진행\n",
    "performance_data = performance_data[performance_data.판매단가 != 0].reset_index(drop=True)\n",
    "performance_data = performance_data[performance_data.취급액.isnull()==False].reset_index(drop=True)\n",
    "test_data = test_data[test_data.판매단가 != 0].reset_index(drop=True)\n",
    "test_data['취급액'] = -1"
   ]
  },
  {
   "cell_type": "code",
   "execution_count": null,
   "metadata": {},
   "outputs": [],
   "source": [
    "performance_data.info()"
   ]
  },
  {
   "cell_type": "code",
   "execution_count": null,
   "metadata": {},
   "outputs": [],
   "source": [
    "performance_data['노출(분)'] = performance_data['노출(분)'].fillna(method='ffill')\n",
    "test_data['노출(분)'] = test_data['노출(분)'].fillna(method='ffill')"
   ]
  },
  {
   "cell_type": "code",
   "execution_count": null,
   "metadata": {},
   "outputs": [],
   "source": [
    "performance_data['마더코드'] = performance_data['마더코드'].map(str)\n",
    "performance_data['상품코드'] = performance_data['상품코드'].map(str)\n",
    "\n",
    "test_data['마더코드'] = test_data['마더코드'].map(str)\n",
    "test_data['상품코드'] = test_data['상품코드'].map(str)"
   ]
  },
  {
   "cell_type": "code",
   "execution_count": null,
   "metadata": {},
   "outputs": [],
   "source": [
    "# 판매량 생성\n",
    "performance_data['판매량'] = performance_data.취급액/performance_data.판매단가\n",
    "test_data['판매량'] = -1\n",
    "performance_data.head()"
   ]
  },
  {
   "cell_type": "code",
   "execution_count": null,
   "metadata": {},
   "outputs": [],
   "source": [
    "performance_data.describe()"
   ]
  },
  {
   "cell_type": "code",
   "execution_count": null,
   "metadata": {},
   "outputs": [],
   "source": [
    "print('마더코드 수 :',performance_data.마더코드.nunique())\n",
    "print('상품코드 수 :',performance_data.상품코드.nunique())\n",
    "print('상품명 수 :',performance_data.상품명.nunique())\n",
    "print('상품군 수 :',performance_data.상품군.nunique())"
   ]
  },
  {
   "cell_type": "markdown",
   "metadata": {},
   "source": [
    "### **기본 feature 생성**"
   ]
  },
  {
   "cell_type": "markdown",
   "metadata": {},
   "source": [
    "#### **요일 생성**"
   ]
  },
  {
   "cell_type": "code",
   "execution_count": null,
   "metadata": {},
   "outputs": [],
   "source": [
    "def date2day(x):\n",
    "    d = datetime.date(x.year, x.month, x.day) \n",
    "    x = d.strftime('%A')\n",
    "    return x\n",
    "performance_data['요일'] = performance_data.방송일시.apply(lambda x: date2day(x))\n",
    "test_data['요일'] = test_data.방송일시.apply(lambda x: date2day(x))\n",
    "performance_data.head()"
   ]
  },
  {
   "cell_type": "markdown",
   "metadata": {},
   "source": [
    "#### **시간변수 생성**"
   ]
  },
  {
   "cell_type": "code",
   "execution_count": null,
   "metadata": {},
   "outputs": [],
   "source": [
    "performance_data['hour'] = performance_data.방송일시.apply(lambda x: x.hour)\n",
    "performance_data['minute'] = performance_data.방송일시.apply(lambda x: x.minute)\n",
    "performance_data['date'] = performance_data.방송일시.astype(str).apply(lambda x: x.split(' ')[0])\n",
    "performance_data['month'] = performance_data.방송일시.apply(lambda x: x.month)\n",
    "\n",
    "test_data['hour'] = test_data.방송일시.apply(lambda x: x.hour)\n",
    "test_data['minute'] = test_data.방송일시.apply(lambda x: x.minute)\n",
    "test_data['date'] = test_data.방송일시.astype(str).apply(lambda x: x.split(' ')[0])\n",
    "test_data['month'] = test_data.방송일시.apply(lambda x: x.month)"
   ]
  },
  {
   "cell_type": "markdown",
   "metadata": {},
   "source": [
    "##### **계절**"
   ]
  },
  {
   "cell_type": "code",
   "execution_count": null,
   "metadata": {},
   "outputs": [],
   "source": [
    "def make_season(x):\n",
    "    if 3 <= x <= 5 :\n",
    "        return('봄')\n",
    "    elif 6 <= x <= 8 :\n",
    "        return('여름')\n",
    "    elif 9 <= x <= 11 :    \n",
    "        return('가을')\n",
    "    else :\n",
    "        return('겨울')  \n",
    "performance_data['season'] = performance_data.month.apply(lambda x: make_season(x))\n",
    "test_data['season'] = test_data.month.apply(lambda x: make_season(x))\n",
    "performance_data.head()"
   ]
  },
  {
   "cell_type": "markdown",
   "metadata": {},
   "source": [
    "#### **시청률 합치기**"
   ]
  },
  {
   "cell_type": "code",
   "execution_count": null,
   "metadata": {},
   "outputs": [],
   "source": [
    "rating_data = rating_data.iloc[:-1,:]"
   ]
  },
  {
   "cell_type": "code",
   "execution_count": null,
   "metadata": {},
   "outputs": [],
   "source": [
    "rating_data['hour'] = rating_data.시간대.apply(lambda x: x.split(':')[0])\n",
    "rating_data['minute'] = rating_data.시간대.apply(lambda x: x.split(':')[1])\n",
    "rating_data.hour = rating_data.hour.map(int)\n",
    "rating_data.minute = rating_data.minute.map(int)"
   ]
  },
  {
   "cell_type": "code",
   "execution_count": null,
   "metadata": {},
   "outputs": [],
   "source": [
    "merge_data = performance_data.drop_duplicates(['date','hour','minute']).reset_index(drop=True)\n",
    "merge_data['subMin'] = merge_data.loc[1:,'방송일시'].reset_index(drop=True) - merge_data.loc[:20586,'방송일시']\n",
    "merge_data['subMin'] = merge_data['subMin'].apply(lambda x: x.seconds/60)\n",
    "merge_data = merge_data.iloc[:-1,:] # 2020년 데이터, 시청률 없음."
   ]
  },
  {
   "cell_type": "code",
   "execution_count": null,
   "metadata": {},
   "outputs": [],
   "source": [
    "# max_rating = []\n",
    "# for i in tqdm(range(len(merge_data))):\n",
    "#     hour = merge_data.hour[i]\n",
    "#     minute = merge_data.minute[i]\n",
    "#     idx = rating_data[(rating_data.hour == hour) & (rating_data.minute == minute)].index[0]\n",
    "#     a = rating_data.iloc[idx:int(idx+merge_data.subMin[i]),:]\n",
    "#     max_rating.append(a[merge_data.date[i]].max())\n",
    "\n",
    "mean_rating = []\n",
    "for i in tqdm(range(len(merge_data))):\n",
    "    hour = merge_data.hour[i]\n",
    "    minute = merge_data.minute[i]\n",
    "    idx = rating_data[(rating_data.hour == hour) & (rating_data.minute == minute)].index[0]\n",
    "    \n",
    "    a = rating_data.iloc[idx:int(idx+merge_data.subMin[i]),:]\n",
    "    mean_rating.append(a[merge_data.date[i]].mean())\n",
    "\n",
    "# merge_data['max_rating'] = max_rating\n",
    "merge_data['mean_rating'] = mean_rating\n",
    "\n",
    "merge_data = merge_data[['방송일시','mean_rating']]\n",
    "performance_data = performance_data.merge(merge_data,on='방송일시',how='left')\n",
    "performance_data.head()"
   ]
  },
  {
   "cell_type": "code",
   "execution_count": null,
   "metadata": {},
   "outputs": [],
   "source": [
    "performance_data['mean_rating'] = performance_data['mean_rating'].fillna(method='ffill')"
   ]
  },
  {
   "cell_type": "markdown",
   "metadata": {},
   "source": [
    "#### **공휴일 붙이기**"
   ]
  },
  {
   "cell_type": "code",
   "execution_count": null,
   "metadata": {},
   "outputs": [],
   "source": [
    "with open('../data/holiday.json', 'r') as f:\n",
    "    holiday = json.load(f)\n",
    "holiday = {v: k for k, v in holiday.items()}\n",
    "holiday"
   ]
  },
  {
   "cell_type": "code",
   "execution_count": null,
   "metadata": {},
   "outputs": [],
   "source": [
    "keys = list(holiday.keys())\n",
    "for i in keys:\n",
    "    holiday[i] = holiday[i][:-7]\n",
    "holiday"
   ]
  },
  {
   "cell_type": "code",
   "execution_count": null,
   "metadata": {},
   "outputs": [],
   "source": [
    "def func(x):\n",
    "    if x in holiday:\n",
    "        x = holiday[x]\n",
    "    else:\n",
    "        x = np.nan\n",
    "    return x\n",
    "performance_data.date = performance_data.date.apply(lambda x: re.sub('-','',x))\n",
    "performance_data['holiday'] = performance_data.date.apply(lambda x: func(x))\n",
    "test_data.date = test_data.date.apply(lambda x: re.sub('-','',x))\n",
    "test_data['holiday'] = test_data.date.apply(lambda x: func(x))\n",
    "performance_data.head()"
   ]
  },
  {
   "cell_type": "code",
   "execution_count": null,
   "metadata": {},
   "outputs": [],
   "source": [
    "performance_data.holiday.value_counts()"
   ]
  },
  {
   "cell_type": "code",
   "execution_count": null,
   "metadata": {},
   "outputs": [],
   "source": [
    "null_idx = performance_data[performance_data.holiday.isnull()].index\n",
    "non_null_idx = performance_data[performance_data.holiday.isnull()==False].index\n",
    "performance_data['holiday_yn'] = performance_data.holiday\n",
    "performance_data.loc[null_idx,'holiday_yn'] = 0\n",
    "performance_data.loc[non_null_idx,'holiday_yn'] = 1\n",
    "\n",
    "weekend_idx = performance_data[performance_data.요일.isin(['토요일','일요일'])].index\n",
    "performance_data.loc[weekend_idx,'holiday_yn'] = 1\n",
    "\n",
    "\n",
    "null_idx = test_data[test_data.holiday.isnull()].index\n",
    "non_null_idx = test_data[test_data.holiday.isnull()==False].index\n",
    "test_data['holiday_yn'] = test_data.holiday\n",
    "test_data.loc[null_idx,'holiday_yn'] = 0\n",
    "test_data.loc[non_null_idx,'holiday_yn'] = 1\n",
    "\n",
    "weekend_idx = test_data[test_data.요일.isin(['토요일','일요일'])].index\n",
    "test_data.loc[weekend_idx,'holiday_yn'] = 1"
   ]
  },
  {
   "cell_type": "markdown",
   "metadata": {},
   "source": [
    "### **테스트 데이터 시청률 채우기**"
   ]
  },
  {
   "cell_type": "code",
   "execution_count": null,
   "metadata": {},
   "outputs": [],
   "source": [
    "plot_data = performance_data[performance_data.mean_rating != -1].reset_index(drop=True)"
   ]
  },
  {
   "cell_type": "code",
   "execution_count": null,
   "metadata": {},
   "outputs": [],
   "source": [
    "figure, ((ax1,ax2,ax3),(ax4,ax5,ax6),(ax7,ax8,ax9),(ax10,ax11,ax12)) = plt.subplots(nrows=4, ncols=3)\n",
    "figure.set_size_inches(30,20)\n",
    "plt.title('월별 시간대별 시청률')\n",
    "ax1.set_title('1월')\n",
    "ax2.set_title('2월')\n",
    "ax3.set_title('3월')\n",
    "ax4.set_title('4월')\n",
    "ax5.set_title('5월')\n",
    "ax6.set_title('6월')\n",
    "ax7.set_title('7월')\n",
    "ax8.set_title('8월')\n",
    "ax9.set_title('9월')\n",
    "ax10.set_title('10월')\n",
    "ax11.set_title('11월')\n",
    "ax12.set_title('12월')\n",
    "sns.boxplot(x = \"hour\", y = \"mean_rating\", data = plot_data[(plot_data.month==1) & (plot_data.holiday_yn==0)], palette = \"Set3\",ax=ax1)\n",
    "sns.boxplot(x = \"hour\", y = \"mean_rating\", data = plot_data[(plot_data.month==2)& (plot_data.holiday_yn==0)], palette = \"Set3\",ax=ax2)\n",
    "sns.boxplot(x = \"hour\", y = \"mean_rating\", data = plot_data[(plot_data.month==3)& (plot_data.holiday_yn==0)], palette = \"Set3\",ax=ax3)\n",
    "sns.boxplot(x = \"hour\", y = \"mean_rating\", data = plot_data[(plot_data.month==4)& (plot_data.holiday_yn==0)], palette = \"Set3\",ax=ax4)\n",
    "sns.boxplot(x = \"hour\", y = \"mean_rating\", data = plot_data[(plot_data.month==5)& (plot_data.holiday_yn==0)], palette = \"Set3\",ax=ax5)\n",
    "sns.boxplot(x = \"hour\", y = \"mean_rating\", data = plot_data[(plot_data.month==6)& (plot_data.holiday_yn==0)], palette = \"Set3\",ax=ax6)\n",
    "sns.boxplot(x = \"hour\", y = \"mean_rating\", data = plot_data[(plot_data.month==7)& (plot_data.holiday_yn==0)], palette = \"Set3\",ax=ax7)\n",
    "sns.boxplot(x = \"hour\", y = \"mean_rating\", data = plot_data[(plot_data.month==8)& (plot_data.holiday_yn==0)], palette = \"Set3\",ax=ax8)\n",
    "sns.boxplot(x = \"hour\", y = \"mean_rating\", data = plot_data[(plot_data.month==9)& (plot_data.holiday_yn==0)], palette = \"Set3\",ax=ax9)\n",
    "sns.boxplot(x = \"hour\", y = \"mean_rating\", data = plot_data[(plot_data.month==10)& (plot_data.holiday_yn==0)], palette = \"Set3\",ax=ax10)\n",
    "sns.boxplot(x = \"hour\", y = \"mean_rating\", data = plot_data[(plot_data.month==11)& (plot_data.holiday_yn==0)], palette = \"Set3\",ax=ax11)\n",
    "sns.boxplot(x = \"hour\", y = \"mean_rating\", data = plot_data[(plot_data.month==12)& (plot_data.holiday_yn==0)], palette = \"Set3\",ax=ax12)\n",
    "plt.show()"
   ]
  },
  {
   "cell_type": "markdown",
   "metadata": {},
   "source": [
    "-> 월별로 시청률이 완전히 상이하다. 시청률을 넣을거면 6월의 일, 시간별 평균 시청률로 넣는것이 바람직할 듯.."
   ]
  },
  {
   "cell_type": "code",
   "execution_count": null,
   "metadata": {},
   "outputs": [],
   "source": [
    "mean_06 = performance_data[performance_data.month==6].groupby(['요일','month','hour','minute'])['mean_rating'].mean().reset_index()\n",
    "test_data = pd.merge(test_data,mean_06,on=['요일','month','hour','minute'],how='left')\n",
    "test_data['mean_rating'] = test_data['mean_rating'].fillna(method='ffill')\n",
    "# 일단 2019년 6월의 요일,시간,분 별 평균 시청률로 넣어 주었다."
   ]
  },
  {
   "cell_type": "code",
   "execution_count": null,
   "metadata": {},
   "outputs": [],
   "source": [
    "performance_data.info()"
   ]
  },
  {
   "cell_type": "code",
   "execution_count": null,
   "metadata": {},
   "outputs": [],
   "source": [
    "test_data.info()"
   ]
  },
  {
   "cell_type": "code",
   "execution_count": null,
   "metadata": {},
   "outputs": [],
   "source": [
    "performance_data = pd.concat([performance_data,test_data]).reset_index(drop=True)\n",
    "performance_data['holiday'] = performance_data.holiday.fillna('no_holiday')"
   ]
  },
  {
   "cell_type": "code",
   "execution_count": null,
   "metadata": {},
   "outputs": [],
   "source": [
    "performance_data.to_csv('../data/base_data_concat.csv',index=False)"
   ]
  }
 ],
 "metadata": {
  "kernelspec": {
   "display_name": "Python 3",
   "language": "python",
   "name": "python3"
  },
  "language_info": {
   "codemirror_mode": {
    "name": "ipython",
    "version": 3
   },
   "file_extension": ".py",
   "mimetype": "text/x-python",
   "name": "python",
   "nbconvert_exporter": "python",
   "pygments_lexer": "ipython3",
   "version": "3.8.3"
  }
 },
 "nbformat": 4,
 "nbformat_minor": 4
}
