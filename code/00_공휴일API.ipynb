{
 "cells": [
  {
   "cell_type": "code",
   "execution_count": 90,
   "metadata": {},
   "outputs": [],
   "source": [
    "import requests\n",
    "import lxml.html\n",
    "import json"
   ]
  },
  {
   "cell_type": "code",
   "execution_count": 2,
   "metadata": {},
   "outputs": [],
   "source": [
    "def get_request_query(url, operation, params, serviceKey):\n",
    "    import urllib.parse as urlparse\n",
    "    params = urlparse.urlencode(params)\n",
    "    request_query = url + '/' + operation + '?' + params + '&' + 'serviceKey' + '=' + serviceKey\n",
    "    return request_query"
   ]
  },
  {
   "cell_type": "code",
   "execution_count": 81,
   "metadata": {},
   "outputs": [],
   "source": [
    "URL = 'http://apis.data.go.kr/B090041/openapi/service/SpcdeInfoService'\n",
    "OPERATION = 'getRestDeInfo' # 국경일 + 공휴일 정보 조회 오퍼레이션"
   ]
  },
  {
   "cell_type": "code",
   "execution_count": 87,
   "metadata": {},
   "outputs": [],
   "source": [
    "month = ['01','02','03','04','05','06','07','08','09','10','11','12']\n",
    "SERVICEKEY = 'mT0kc08MQ2mbUrflqFdcQlqxvf%2Bt8XT%2BwhIDNHCb6gqBbIhcIJ85XQcRqGmlJoqQTqglDR7I4l5LIMylWcxyQA%3D%3D'\n",
    "solYear  = ['2019','2020']  # 연도\n",
    "solMonth = month[0]   # 월\n",
    "PARAMS = {'solYear':solYear, 'solMonth':solMonth}\n"
   ]
  },
  {
   "cell_type": "code",
   "execution_count": 92,
   "metadata": {},
   "outputs": [
    {
     "data": {
      "text/plain": [
       "{'1월1일_2019_0': '20190101',\n",
       " '설날_2019_0': '20190204',\n",
       " '설날_2019_1': '20190205',\n",
       " '설날_2019_2': '20190206',\n",
       " '삼일절_2019_0': '20190301',\n",
       " '어린이날_2019_0': '20190505',\n",
       " '대체공휴일_2019_1': '20190506',\n",
       " '부처님오신날_2019_2': '20190512',\n",
       " '현충일_2019_0': '20190606',\n",
       " '광복절_2019_0': '20190815',\n",
       " '추석_2019_0': '20190912',\n",
       " '추석_2019_1': '20190913',\n",
       " '추석_2019_2': '20190914',\n",
       " '개천절_2019_0': '20191003',\n",
       " '한글날_2019_1': '20191009',\n",
       " '기독탄신일_2019_0': '20191225'}"
      ]
     },
     "execution_count": 92,
     "metadata": {},
     "output_type": "execute_result"
    }
   ],
   "source": [
    "holiday = {}\n",
    "for i in month:\n",
    "    PARAMS = {'solYear':solYear[0], 'solMonth':i}\n",
    "    request_query = get_request_query(URL, OPERATION, PARAMS, SERVICEKEY)\n",
    "    response = requests.get(url=request_query)\n",
    "    root = lxml.etree.fromstring(response.text.encode('utf-8'))\n",
    "    for j in range(len(root.cssselect('dateName'))):\n",
    "        try:\n",
    "            holiday[root.cssselect('dateName')[j].text+'_2019_'+str(j)]=root.cssselect('locdate')[j].text\n",
    "        except:\n",
    "            pass\n",
    "holiday"
   ]
  },
  {
   "cell_type": "code",
   "execution_count": 93,
   "metadata": {},
   "outputs": [
    {
     "data": {
      "text/plain": [
       "dict_values(['20190101', '20190204', '20190205', '20190206', '20190301', '20190505', '20190506', '20190512', '20190606', '20190815', '20190912', '20190913', '20190914', '20191003', '20191009', '20191225'])"
      ]
     },
     "execution_count": 93,
     "metadata": {},
     "output_type": "execute_result"
    }
   ],
   "source": [
    "holiday.values()"
   ]
  },
  {
   "cell_type": "code",
   "execution_count": 94,
   "metadata": {},
   "outputs": [
    {
     "data": {
      "text/plain": [
       "'2020'"
      ]
     },
     "execution_count": 94,
     "metadata": {},
     "output_type": "execute_result"
    }
   ],
   "source": [
    "solYear[1]"
   ]
  },
  {
   "cell_type": "code",
   "execution_count": 95,
   "metadata": {},
   "outputs": [
    {
     "data": {
      "text/plain": [
       "{'1월1일_2019_0': '20190101',\n",
       " '설날_2019_0': '20190204',\n",
       " '설날_2019_1': '20190205',\n",
       " '설날_2019_2': '20190206',\n",
       " '삼일절_2019_0': '20190301',\n",
       " '어린이날_2019_0': '20190505',\n",
       " '대체공휴일_2019_1': '20190506',\n",
       " '부처님오신날_2019_2': '20190512',\n",
       " '현충일_2019_0': '20190606',\n",
       " '광복절_2019_0': '20190815',\n",
       " '추석_2019_0': '20190912',\n",
       " '추석_2019_1': '20190913',\n",
       " '추석_2019_2': '20190914',\n",
       " '개천절_2019_0': '20191003',\n",
       " '한글날_2019_1': '20191009',\n",
       " '기독탄신일_2019_0': '20191225',\n",
       " '1월1일_2020_0': '20200101',\n",
       " '설날_2020_1': '20200124',\n",
       " '설날_2020_2': '20200125',\n",
       " '설날_2020_3': '20200126',\n",
       " '설날_2020_4': '20200127',\n",
       " '삼일절_2020_0': '20200301',\n",
       " '제21대 국회의원선거_2020_0': '20200415',\n",
       " '부처님오신날_2020_1': '20200430',\n",
       " '어린이날_2020_0': '20200505',\n",
       " '현충일_2020_0': '20200606'}"
      ]
     },
     "execution_count": 95,
     "metadata": {},
     "output_type": "execute_result"
    }
   ],
   "source": [
    "for i in month[:6]:\n",
    "    PARAMS = {'solYear':solYear[1], 'solMonth':i}\n",
    "    request_query = get_request_query(URL, OPERATION, PARAMS, SERVICEKEY)\n",
    "    response = requests.get(url=request_query)\n",
    "    root = lxml.etree.fromstring(response.text.encode('utf-8'))\n",
    "    for j in range(len(root.cssselect('dateName'))):\n",
    "        try:\n",
    "            holiday[root.cssselect('dateName')[j].text+'_2020_'+str(j)]=root.cssselect('locdate')[j].text\n",
    "        except:\n",
    "            pass\n",
    "holiday"
   ]
  },
  {
   "cell_type": "code",
   "execution_count": 97,
   "metadata": {},
   "outputs": [],
   "source": [
    "with open('holiday.json', 'w', encoding='utf-8') as make_file:\n",
    "    json.dump(holiday, make_file, indent=\"\\t\")"
   ]
  },
  {
   "cell_type": "code",
   "execution_count": null,
   "metadata": {},
   "outputs": [],
   "source": []
  }
 ],
 "metadata": {
  "kernelspec": {
   "display_name": "Python 3",
   "language": "python",
   "name": "python3"
  },
  "language_info": {
   "codemirror_mode": {
    "name": "ipython",
    "version": 3
   },
   "file_extension": ".py",
   "mimetype": "text/x-python",
   "name": "python",
   "nbconvert_exporter": "python",
   "pygments_lexer": "ipython3",
   "version": "3.6.5"
  }
 },
 "nbformat": 4,
 "nbformat_minor": 2
}
