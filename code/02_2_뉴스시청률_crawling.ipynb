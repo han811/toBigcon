{
 "cells": [
  {
   "cell_type": "code",
   "execution_count": 1,
   "metadata": {},
   "outputs": [],
   "source": [
    "import pandas as pd\n",
    "import datetime\n",
    "import requests\n",
    "from bs4 import BeautifulSoup\n",
    "import time\n",
    "import datetime\n",
    "import pickle"
   ]
  },
  {
   "cell_type": "code",
   "execution_count": 3,
   "metadata": {},
   "outputs": [],
   "source": [
    "with open('../data/merged_data_concat.pickle', 'rb') as f:\n",
    "    base = pickle.load(f)"
   ]
  },
  {
   "cell_type": "markdown",
   "metadata": {},
   "source": [
    "### KBS9시 뉴스시청률 크롤링"
   ]
  },
  {
   "cell_type": "code",
   "execution_count": 4,
   "metadata": {},
   "outputs": [],
   "source": [
    "def get_date_string(start_date, period=365):\n",
    "    # 20190721 형태의 Date String List 생성\n",
    "    return [\n",
    "        (start_date + datetime.timedelta(days=day)).strftime(\"%Y%m%d\")\n",
    "        for day in range(period)\n",
    "    ]"
   ]
  },
  {
   "cell_type": "code",
   "execution_count": 5,
   "metadata": {},
   "outputs": [],
   "source": [
    "def crawling(date):\n",
    "    \n",
    "    base_url = \"https://www.nielsenkorea.co.kr/tv_terrestrial_day.asp?menu=Tit_1&sub_menu=1_1&area=00&begin_date=\"\n",
    "    my_percent = []\n",
    "    \n",
    "    for i in date: \n",
    "        \n",
    "        html = requests.post(base_url+i)\n",
    "        #time.sleep()\n",
    "        html.encoding = 'utf-8'\n",
    "        soup = BeautifulSoup(html.text, 'html.parser')\n",
    "\n",
    "        channel  = soup.find_all(class_='tb_txt_center')\n",
    "        text = soup.find_all(class_= 'tb_txt')\n",
    "        percent = soup.find_all(class_='percent')\n",
    "        percent1 = soup.find_all(class_='percent_g')\n",
    "        \n",
    "        channel = channel[1::2]\n",
    "        \n",
    "        c=[]\n",
    "        t=[]\n",
    "        p=[]\n",
    "        p1=[]\n",
    "        \n",
    "        for h in channel:\n",
    "            c.append(h.text.strip())\n",
    "        \n",
    "        for j in text:\n",
    "            t.append(j.text.strip())\n",
    "\n",
    "        for k in percent:\n",
    "            p.append(k.text.strip())\n",
    "\n",
    "        for m in percent1:\n",
    "            p1.append(m.text.strip())\n",
    "\n",
    "        df = pd.DataFrame()\n",
    "        df['channel'] = c[0:20]\n",
    "        df['text'] = t[0:20]\n",
    "        df['percent'] =p[0:10]+p1[0:10]\n",
    "        \n",
    "        try :\n",
    "            index = df['text'].tolist().index('KBS9시뉴스')  # 9시 뉴스의  index 반환\n",
    "            #print(df['percent'][index])\n",
    "            #print(df['text'][index])\n",
    "            my_percent.append(df['percent'][index])\n",
    "        except:\n",
    "            my_percent.append(\"\")\n",
    "            \n",
    "    return my_percent"
   ]
  },
  {
   "cell_type": "code",
   "execution_count": 6,
   "metadata": {},
   "outputs": [],
   "source": [
    "crawling_time = crawling(base['date'].unique())"
   ]
  },
  {
   "cell_type": "code",
   "execution_count": 7,
   "metadata": {},
   "outputs": [],
   "source": [
    "crawling = pd.DataFrame()\n",
    "date_list = base['date'].unique()\n",
    "crawling['date'] = date_list\n",
    "crawling['뉴스시청률']=crawling_time"
   ]
  },
  {
   "cell_type": "code",
   "execution_count": 8,
   "metadata": {},
   "outputs": [],
   "source": [
    "base = base.merge(crawling, on=['date'],how='left')"
   ]
  },
  {
   "cell_type": "code",
   "execution_count": 9,
   "metadata": {},
   "outputs": [],
   "source": [
    "base['뉴스시청률'] = base['뉴스시청률'].apply(lambda x: float(x))"
   ]
  },
  {
   "cell_type": "code",
   "execution_count": 10,
   "metadata": {},
   "outputs": [],
   "source": [
    "with open('../data/merged_data_concat.pickle', 'wb') as f:\n",
    "    pickle.dump(base, f)"
   ]
  }
 ],
 "metadata": {
  "kernelspec": {
   "display_name": "Python 3",
   "language": "python",
   "name": "python3"
  },
  "language_info": {
   "codemirror_mode": {
    "name": "ipython",
    "version": 3
   },
   "file_extension": ".py",
   "mimetype": "text/x-python",
   "name": "python",
   "nbconvert_exporter": "python",
   "pygments_lexer": "ipython3",
   "version": "3.8.3"
  }
 },
 "nbformat": 4,
 "nbformat_minor": 4
}
