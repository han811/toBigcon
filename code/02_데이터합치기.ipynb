{
 "cells": [
  {
   "cell_type": "code",
   "execution_count": null,
   "metadata": {},
   "outputs": [],
   "source": [
    "import pandas as pd\n",
    "import numpy as np\n",
    "import matplotlib.pyplot as plt\n",
    "import seaborn as sns\n",
    "import datetime \n",
    "import locale                                                           \n",
    "import re\n",
    "from tqdm import tqdm_notebook,tqdm,notebook\n",
    "import matplotlib.pylab as plt\n",
    "import json\n",
    "from datetime import datetime\n",
    "import pickle\n",
    "\n",
    "plt.rc('font', family='Malgun Gothic')\n",
    "plt.rc('axes', unicode_minus=False)\n",
    "locale.setlocale(locale.LC_ALL, 'ko_KR.UTF-8') "
   ]
  },
  {
   "cell_type": "code",
   "execution_count": null,
   "metadata": {},
   "outputs": [],
   "source": [
    "performance_data = pd.read_csv('../data/base_data_concat.csv')\n",
    "weather = pd.read_csv(\"../data/2019_weather_data.csv\",index_col=False)\n",
    "weather.drop(['Unnamed: 0'],axis=1,inplace=True)\n",
    "money = pd.read_excel('../data/money2.xls')\n",
    "weather_2020 = pd.read_csv(\"../data/20206_weather_data.csv\",index_col=False)\n",
    "money_2020 = pd.read_excel('../data/20206_주가지수.xls')"
   ]
  },
  {
   "cell_type": "code",
   "execution_count": null,
   "metadata": {},
   "outputs": [],
   "source": [
    "display(performance_data.head())\n",
    "display(weather.head())\n",
    "display(money.head())\n",
    "display(weather_2020.head())\n",
    "display(money_2020.head())"
   ]
  },
  {
   "cell_type": "markdown",
   "metadata": {},
   "source": [
    "### **날씨 붙이기**"
   ]
  },
  {
   "cell_type": "code",
   "execution_count": null,
   "metadata": {},
   "outputs": [],
   "source": [
    "weather.일시 = weather.일시.map(str)\n",
    "weather['date'] = weather.일시.apply(lambda x: int(x[:8]))\n",
    "weather['hour'] = weather.일시.apply(lambda x: int(x[8:10]))\n",
    "weather['minute'] = weather.일시.apply(lambda x: int(x[10:]))\n",
    "\n",
    "weather_2020['date'] = weather_2020.일시.apply(lambda x: int(re.sub('-','',x.split(' ')[0])))\n",
    "weather_2020['hour'] = weather_2020.일시.apply(lambda x: int(x.split(' ')[1].split(':')[0]))\n",
    "weather_2020['minute'] = weather_2020.일시.apply(lambda x: int(x.split(' ')[1].split(':')[1]))"
   ]
  },
  {
   "cell_type": "code",
   "execution_count": null,
   "metadata": {},
   "outputs": [],
   "source": [
    "merge_data = performance_data.drop_duplicates(['date','hour','minute']).reset_index(drop=True)\n",
    "merge_data.방송일시 = merge_data.방송일시.apply(lambda x: datetime.strptime(x, '%Y-%m-%d %H:%M:%S'))\n",
    "merge_data"
   ]
  },
  {
   "cell_type": "code",
   "execution_count": null,
   "metadata": {},
   "outputs": [],
   "source": [
    "merge_data = performance_data.drop_duplicates(['date','hour','minute']).reset_index(drop=True)\n",
    "merge_data.방송일시 = merge_data.방송일시.apply(lambda x: datetime.strptime(x, '%Y-%m-%d %H:%M:%S'))\n",
    "merge_data['subMin'] = merge_data.loc[1:,'방송일시'].reset_index(drop=True) - merge_data.loc[:22180,'방송일시']\n",
    "merge_data['subMin'] = merge_data['subMin'].apply(lambda x: x.seconds/60)\n",
    "merge_data = merge_data.iloc[:-1,:] # 2020년 데이터, 시청률 없음."
   ]
  },
  {
   "cell_type": "code",
   "execution_count": null,
   "metadata": {},
   "outputs": [],
   "source": [
    "weather = weather.iloc[:,1:]\n",
    "weather_2020 = weather_2020.iloc[:,1:]"
   ]
  },
  {
   "cell_type": "code",
   "execution_count": null,
   "metadata": {},
   "outputs": [],
   "source": [
    "weather = pd.concat([weather,weather_2020]).reset_index(drop=True)"
   ]
  },
  {
   "cell_type": "code",
   "execution_count": null,
   "metadata": {},
   "outputs": [],
   "source": [
    "for col in weather.columns[:4]:\n",
    "    d = []\n",
    "    for i in tqdm(range(len(merge_data))):\n",
    "        date = merge_data.date[i]\n",
    "        hour = merge_data.hour[i]\n",
    "        minute = merge_data.minute[i]\n",
    "        try:\n",
    "            idx = weather[(weather['date'] == date) & (weather['hour'] == hour) & (weather['minute'] == minute)].index[0]\n",
    "            a = weather.loc[idx:int(idx+merge_data.subMin[i]),col]\n",
    "            d.append(a.mean())\n",
    "        except:\n",
    "            d.append(np.nan)\n",
    "    merge_data[col] = d"
   ]
  },
  {
   "cell_type": "code",
   "execution_count": null,
   "metadata": {},
   "outputs": [],
   "source": [
    "merge_data['date'] = merge_data['date'].map(str)\n",
    "performance_data['date'] = performance_data['date'].map(str)"
   ]
  },
  {
   "cell_type": "markdown",
   "metadata": {},
   "source": [
    "### **주가 붙이기**"
   ]
  },
  {
   "cell_type": "code",
   "execution_count": null,
   "metadata": {},
   "outputs": [],
   "source": [
    "money = pd.concat([money,money_2020]).reset_index(drop=True)"
   ]
  },
  {
   "cell_type": "code",
   "execution_count": null,
   "metadata": {},
   "outputs": [],
   "source": [
    "money['date'] = money['일자'].apply(lambda x: re.sub('/','',x))\n",
    "del money['일자']"
   ]
  },
  {
   "cell_type": "code",
   "execution_count": null,
   "metadata": {},
   "outputs": [],
   "source": [
    "merge_data = pd.merge(merge_data,money,on='date',how='left')"
   ]
  },
  {
   "cell_type": "markdown",
   "metadata": {},
   "source": [
    "### **데이터 통합 후 저장**"
   ]
  },
  {
   "cell_type": "code",
   "execution_count": null,
   "metadata": {},
   "outputs": [],
   "source": [
    "merge_data['방송일시'] = merge_data['방송일시'].map(str)\n",
    "merge_data = merge_data[['방송일시'] + list(merge_data.columns[19:])]\n",
    "performance_data = performance_data.merge(merge_data,on='방송일시',how='left')\n",
    "performance_data.head()"
   ]
  },
  {
   "cell_type": "code",
   "execution_count": null,
   "metadata": {},
   "outputs": [],
   "source": [
    "performance_data.loc[0,money.columns[:-1]] = money.iloc[18,:-1]\n",
    "performance_data = performance_data.fillna(method='ffill')"
   ]
  },
  {
   "cell_type": "code",
   "execution_count": null,
   "metadata": {},
   "outputs": [],
   "source": [
    "performance_data.info()"
   ]
  },
  {
   "cell_type": "code",
   "execution_count": null,
   "metadata": {},
   "outputs": [],
   "source": [
    "for i in ['현재지수']+list(performance_data.columns[28:]):\n",
    "    performance_data[i] = performance_data[i].apply(lambda x: re.sub(',','',x))\n",
    "    performance_data[i] = performance_data[i].map(float)"
   ]
  },
  {
   "cell_type": "code",
   "execution_count": null,
   "metadata": {},
   "outputs": [],
   "source": [
    "with open('../data/merged_data_concat.pickle', 'wb') as f:\n",
    "    pickle.dump(performance_data, f)"
   ]
  }
 ],
 "metadata": {
  "kernelspec": {
   "display_name": "Python 3",
   "language": "python",
   "name": "python3"
  },
  "language_info": {
   "codemirror_mode": {
    "name": "ipython",
    "version": 3
   },
   "file_extension": ".py",
   "mimetype": "text/x-python",
   "name": "python",
   "nbconvert_exporter": "python",
   "pygments_lexer": "ipython3",
   "version": "3.8.3"
  }
 },
 "nbformat": 4,
 "nbformat_minor": 4
}
